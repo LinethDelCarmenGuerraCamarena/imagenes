{
  "cells": [
    {
      "cell_type": "markdown",
      "metadata": {
        "id": "K95zrUNvxSee"
      },
      "source": [
        "# **SOLUCIÓN DEL PROFESOR - NO PUBLICAR**"
      ]
    },
    {
      "cell_type": "markdown",
      "metadata": {
        "id": "dBbWMn9ebmi8"
      },
      "source": [
        "# Maestría en Inteligencia Artificial Aplicada\n",
        "\n",
        "## Curso: Inteligencia Artificial y Aprendizaje Automático\n",
        "\n",
        "### Tecnológico de Monterrey\n",
        "\n",
        "### Prof Luis Eduardo Falcón Morales\n",
        "\n",
        "## Adtividad de las Semanas 5 y 6\n",
        "### **Problema de asignación de créditos: South German Dataset.**\n"
      ]
    },
    {
      "cell_type": "markdown",
      "metadata": {
        "id": "YiwEw8XsZG2W"
      },
      "source": [
        "## **Nombres y matrículas:**\n",
        "\n",
        "\n",
        "\n",
        "## * Moises Flores Ortiz - A01795489\n",
        "## * Lineth Del Carmen Guerra Camarena - A01795639\n",
        "\n"
      ]
    },
    {
      "cell_type": "markdown",
      "metadata": {
        "id": "AUxxkjE6shkH"
      },
      "source": [
        "# **Parte I: Partición, análisis y pre-procesamiento de los datos.**"
      ]
    },
    {
      "cell_type": "markdown",
      "metadata": {
        "id": "a08Di3GjkL1Y"
      },
      "source": [
        "## **Ejercicio 1**"
      ]
    },
    {
      "cell_type": "code",
      "execution_count": null,
      "metadata": {
        "id": "6VGEpE4SblfD"
      },
      "outputs": [],
      "source": [
        "# Aquí deberás incluir todas las librerías que requieras durante esta actividad:\n",
        "import pandas as pd\n",
        "import numpy as np\n",
        "import seaborn as sns\n",
        "import matplotlib.pyplot as plt\n",
        "from google.colab import drive\n",
        "import os\n",
        "from sklearn.model_selection import train_test_split\n",
        "from sklearn.preprocessing import LabelEncoder, OneHotEncoder, OrdinalEncoder\n",
        "from sklearn.pipeline import Pipeline, FunctionTransformer\n",
        "from sklearn.compose import ColumnTransformer\n",
        "from sklearn.linear_model import LogisticRegression\n",
        "from sklearn import metrics\n",
        "from sklearn.neighbors import KNeighborsClassifier\n",
        "from sklearn.tree import DecisionTreeClassifier\n",
        "from sklearn.ensemble import RandomForestClassifier\n",
        "from sklearn.neural_network import MLPClassifier\n",
        "from xgboost import XGBClassifier\n",
        "from sklearn.svm import SVC\n",
        "from sklearn.model_selection import cross_validate, RepeatedStratifiedKFold, GridSearchCV\n",
        "from imblearn.over_sampling import SMOTE\n",
        "from imblearn.combine import SMOTEENN\n",
        "from imblearn.under_sampling import RandomUnderSampler\n",
        "from sklearn.inspection import permutation_importance\n",
        "import imblearn.pipeline as imb_pipeline"
      ]
    },
    {
      "cell_type": "code",
      "execution_count": null,
      "metadata": {
        "id": "K3gUzoM3iRkt"
      },
      "outputs": [],
      "source": [
        "# Si se desean comentar algunos de los Warnings.\n",
        "import warnings\n",
        "warnings.filterwarnings('ignore')"
      ]
    },
    {
      "cell_type": "code",
      "execution_count": null,
      "metadata": {
        "colab": {
          "base_uri": "https://localhost:8080/"
        },
        "id": "KcpoeWztI_rH",
        "outputId": "ebdb5fdd-3569-4aca-a6a4-9ff22760eb58"
      },
      "outputs": [
        {
          "output_type": "stream",
          "name": "stdout",
          "text": [
            "Mounted at /content/drive\n"
          ]
        }
      ],
      "source": [
        "# Google Colab Mount\n",
        "drive.mount('/content/drive')\n",
        "DIR = \"/content/drive/MyDrive/IA\"\n",
        "os.chdir(DIR)"
      ]
    },
    {
      "cell_type": "code",
      "execution_count": null,
      "metadata": {
        "colab": {
          "base_uri": "https://localhost:8080/",
          "height": 708
        },
        "id": "ppyf8TTgb9zq",
        "outputId": "86e4989c-2b53-41b5-f786-78e41ee0d1a3"
      },
      "outputs": [
        {
          "output_type": "execute_result",
          "data": {
            "text/plain": [
              "                            0     1    2     3     4\n",
              "status                      1     1    2     1     1\n",
              "duration                   18     9   12    12    12\n",
              "credit_history              4     4    2     4     4\n",
              "purpose                     2     0    9     0     0\n",
              "amount                   1049  2799  841  2122  2171\n",
              "savings                     1     1    2     1     1\n",
              "employment_duration         2     3    4     3     3\n",
              "installment_rate            4     2    2     3     4\n",
              "personal_status_sex         2     3    2     3     3\n",
              "other_debtors               1     1    1     1     1\n",
              "present_residence           4     2    4     2     4\n",
              "property                    2     1    1     1     2\n",
              "age                        21    36   23    39    38\n",
              "other_installment_plans     3     3    3     3     1\n",
              "housing                     1     1    1     1     2\n",
              "number_credits              1     2    1     2     2\n",
              "job                         3     3    2     2     2\n",
              "people_liable               2     1    2     1     2\n",
              "telephone                   1     1    1     1     1\n",
              "foreign_worker              2     2    2     1     1\n",
              "credit_risk                 1     1    1     1     1"
            ],
            "text/html": [
              "\n",
              "  <div id=\"df-ec0ba06b-f9b3-48cd-b7e7-8b7e8002ab8d\" class=\"colab-df-container\">\n",
              "    <div>\n",
              "<style scoped>\n",
              "    .dataframe tbody tr th:only-of-type {\n",
              "        vertical-align: middle;\n",
              "    }\n",
              "\n",
              "    .dataframe tbody tr th {\n",
              "        vertical-align: top;\n",
              "    }\n",
              "\n",
              "    .dataframe thead th {\n",
              "        text-align: right;\n",
              "    }\n",
              "</style>\n",
              "<table border=\"1\" class=\"dataframe\">\n",
              "  <thead>\n",
              "    <tr style=\"text-align: right;\">\n",
              "      <th></th>\n",
              "      <th>0</th>\n",
              "      <th>1</th>\n",
              "      <th>2</th>\n",
              "      <th>3</th>\n",
              "      <th>4</th>\n",
              "    </tr>\n",
              "  </thead>\n",
              "  <tbody>\n",
              "    <tr>\n",
              "      <th>status</th>\n",
              "      <td>1</td>\n",
              "      <td>1</td>\n",
              "      <td>2</td>\n",
              "      <td>1</td>\n",
              "      <td>1</td>\n",
              "    </tr>\n",
              "    <tr>\n",
              "      <th>duration</th>\n",
              "      <td>18</td>\n",
              "      <td>9</td>\n",
              "      <td>12</td>\n",
              "      <td>12</td>\n",
              "      <td>12</td>\n",
              "    </tr>\n",
              "    <tr>\n",
              "      <th>credit_history</th>\n",
              "      <td>4</td>\n",
              "      <td>4</td>\n",
              "      <td>2</td>\n",
              "      <td>4</td>\n",
              "      <td>4</td>\n",
              "    </tr>\n",
              "    <tr>\n",
              "      <th>purpose</th>\n",
              "      <td>2</td>\n",
              "      <td>0</td>\n",
              "      <td>9</td>\n",
              "      <td>0</td>\n",
              "      <td>0</td>\n",
              "    </tr>\n",
              "    <tr>\n",
              "      <th>amount</th>\n",
              "      <td>1049</td>\n",
              "      <td>2799</td>\n",
              "      <td>841</td>\n",
              "      <td>2122</td>\n",
              "      <td>2171</td>\n",
              "    </tr>\n",
              "    <tr>\n",
              "      <th>savings</th>\n",
              "      <td>1</td>\n",
              "      <td>1</td>\n",
              "      <td>2</td>\n",
              "      <td>1</td>\n",
              "      <td>1</td>\n",
              "    </tr>\n",
              "    <tr>\n",
              "      <th>employment_duration</th>\n",
              "      <td>2</td>\n",
              "      <td>3</td>\n",
              "      <td>4</td>\n",
              "      <td>3</td>\n",
              "      <td>3</td>\n",
              "    </tr>\n",
              "    <tr>\n",
              "      <th>installment_rate</th>\n",
              "      <td>4</td>\n",
              "      <td>2</td>\n",
              "      <td>2</td>\n",
              "      <td>3</td>\n",
              "      <td>4</td>\n",
              "    </tr>\n",
              "    <tr>\n",
              "      <th>personal_status_sex</th>\n",
              "      <td>2</td>\n",
              "      <td>3</td>\n",
              "      <td>2</td>\n",
              "      <td>3</td>\n",
              "      <td>3</td>\n",
              "    </tr>\n",
              "    <tr>\n",
              "      <th>other_debtors</th>\n",
              "      <td>1</td>\n",
              "      <td>1</td>\n",
              "      <td>1</td>\n",
              "      <td>1</td>\n",
              "      <td>1</td>\n",
              "    </tr>\n",
              "    <tr>\n",
              "      <th>present_residence</th>\n",
              "      <td>4</td>\n",
              "      <td>2</td>\n",
              "      <td>4</td>\n",
              "      <td>2</td>\n",
              "      <td>4</td>\n",
              "    </tr>\n",
              "    <tr>\n",
              "      <th>property</th>\n",
              "      <td>2</td>\n",
              "      <td>1</td>\n",
              "      <td>1</td>\n",
              "      <td>1</td>\n",
              "      <td>2</td>\n",
              "    </tr>\n",
              "    <tr>\n",
              "      <th>age</th>\n",
              "      <td>21</td>\n",
              "      <td>36</td>\n",
              "      <td>23</td>\n",
              "      <td>39</td>\n",
              "      <td>38</td>\n",
              "    </tr>\n",
              "    <tr>\n",
              "      <th>other_installment_plans</th>\n",
              "      <td>3</td>\n",
              "      <td>3</td>\n",
              "      <td>3</td>\n",
              "      <td>3</td>\n",
              "      <td>1</td>\n",
              "    </tr>\n",
              "    <tr>\n",
              "      <th>housing</th>\n",
              "      <td>1</td>\n",
              "      <td>1</td>\n",
              "      <td>1</td>\n",
              "      <td>1</td>\n",
              "      <td>2</td>\n",
              "    </tr>\n",
              "    <tr>\n",
              "      <th>number_credits</th>\n",
              "      <td>1</td>\n",
              "      <td>2</td>\n",
              "      <td>1</td>\n",
              "      <td>2</td>\n",
              "      <td>2</td>\n",
              "    </tr>\n",
              "    <tr>\n",
              "      <th>job</th>\n",
              "      <td>3</td>\n",
              "      <td>3</td>\n",
              "      <td>2</td>\n",
              "      <td>2</td>\n",
              "      <td>2</td>\n",
              "    </tr>\n",
              "    <tr>\n",
              "      <th>people_liable</th>\n",
              "      <td>2</td>\n",
              "      <td>1</td>\n",
              "      <td>2</td>\n",
              "      <td>1</td>\n",
              "      <td>2</td>\n",
              "    </tr>\n",
              "    <tr>\n",
              "      <th>telephone</th>\n",
              "      <td>1</td>\n",
              "      <td>1</td>\n",
              "      <td>1</td>\n",
              "      <td>1</td>\n",
              "      <td>1</td>\n",
              "    </tr>\n",
              "    <tr>\n",
              "      <th>foreign_worker</th>\n",
              "      <td>2</td>\n",
              "      <td>2</td>\n",
              "      <td>2</td>\n",
              "      <td>1</td>\n",
              "      <td>1</td>\n",
              "    </tr>\n",
              "    <tr>\n",
              "      <th>credit_risk</th>\n",
              "      <td>1</td>\n",
              "      <td>1</td>\n",
              "      <td>1</td>\n",
              "      <td>1</td>\n",
              "      <td>1</td>\n",
              "    </tr>\n",
              "  </tbody>\n",
              "</table>\n",
              "</div>\n",
              "    <div class=\"colab-df-buttons\">\n",
              "\n",
              "  <div class=\"colab-df-container\">\n",
              "    <button class=\"colab-df-convert\" onclick=\"convertToInteractive('df-ec0ba06b-f9b3-48cd-b7e7-8b7e8002ab8d')\"\n",
              "            title=\"Convert this dataframe to an interactive table.\"\n",
              "            style=\"display:none;\">\n",
              "\n",
              "  <svg xmlns=\"http://www.w3.org/2000/svg\" height=\"24px\" viewBox=\"0 -960 960 960\">\n",
              "    <path d=\"M120-120v-720h720v720H120Zm60-500h600v-160H180v160Zm220 220h160v-160H400v160Zm0 220h160v-160H400v160ZM180-400h160v-160H180v160Zm440 0h160v-160H620v160ZM180-180h160v-160H180v160Zm440 0h160v-160H620v160Z\"/>\n",
              "  </svg>\n",
              "    </button>\n",
              "\n",
              "  <style>\n",
              "    .colab-df-container {\n",
              "      display:flex;\n",
              "      gap: 12px;\n",
              "    }\n",
              "\n",
              "    .colab-df-convert {\n",
              "      background-color: #E8F0FE;\n",
              "      border: none;\n",
              "      border-radius: 50%;\n",
              "      cursor: pointer;\n",
              "      display: none;\n",
              "      fill: #1967D2;\n",
              "      height: 32px;\n",
              "      padding: 0 0 0 0;\n",
              "      width: 32px;\n",
              "    }\n",
              "\n",
              "    .colab-df-convert:hover {\n",
              "      background-color: #E2EBFA;\n",
              "      box-shadow: 0px 1px 2px rgba(60, 64, 67, 0.3), 0px 1px 3px 1px rgba(60, 64, 67, 0.15);\n",
              "      fill: #174EA6;\n",
              "    }\n",
              "\n",
              "    .colab-df-buttons div {\n",
              "      margin-bottom: 4px;\n",
              "    }\n",
              "\n",
              "    [theme=dark] .colab-df-convert {\n",
              "      background-color: #3B4455;\n",
              "      fill: #D2E3FC;\n",
              "    }\n",
              "\n",
              "    [theme=dark] .colab-df-convert:hover {\n",
              "      background-color: #434B5C;\n",
              "      box-shadow: 0px 1px 3px 1px rgba(0, 0, 0, 0.15);\n",
              "      filter: drop-shadow(0px 1px 2px rgba(0, 0, 0, 0.3));\n",
              "      fill: #FFFFFF;\n",
              "    }\n",
              "  </style>\n",
              "\n",
              "    <script>\n",
              "      const buttonEl =\n",
              "        document.querySelector('#df-ec0ba06b-f9b3-48cd-b7e7-8b7e8002ab8d button.colab-df-convert');\n",
              "      buttonEl.style.display =\n",
              "        google.colab.kernel.accessAllowed ? 'block' : 'none';\n",
              "\n",
              "      async function convertToInteractive(key) {\n",
              "        const element = document.querySelector('#df-ec0ba06b-f9b3-48cd-b7e7-8b7e8002ab8d');\n",
              "        const dataTable =\n",
              "          await google.colab.kernel.invokeFunction('convertToInteractive',\n",
              "                                                    [key], {});\n",
              "        if (!dataTable) return;\n",
              "\n",
              "        const docLinkHtml = 'Like what you see? Visit the ' +\n",
              "          '<a target=\"_blank\" href=https://colab.research.google.com/notebooks/data_table.ipynb>data table notebook</a>'\n",
              "          + ' to learn more about interactive tables.';\n",
              "        element.innerHTML = '';\n",
              "        dataTable['output_type'] = 'display_data';\n",
              "        await google.colab.output.renderOutput(dataTable, element);\n",
              "        const docLink = document.createElement('div');\n",
              "        docLink.innerHTML = docLinkHtml;\n",
              "        element.appendChild(docLink);\n",
              "      }\n",
              "    </script>\n",
              "  </div>\n",
              "\n",
              "\n",
              "<div id=\"df-9a6a8e71-9616-4d01-a297-5903fd0924f3\">\n",
              "  <button class=\"colab-df-quickchart\" onclick=\"quickchart('df-9a6a8e71-9616-4d01-a297-5903fd0924f3')\"\n",
              "            title=\"Suggest charts\"\n",
              "            style=\"display:none;\">\n",
              "\n",
              "<svg xmlns=\"http://www.w3.org/2000/svg\" height=\"24px\"viewBox=\"0 0 24 24\"\n",
              "     width=\"24px\">\n",
              "    <g>\n",
              "        <path d=\"M19 3H5c-1.1 0-2 .9-2 2v14c0 1.1.9 2 2 2h14c1.1 0 2-.9 2-2V5c0-1.1-.9-2-2-2zM9 17H7v-7h2v7zm4 0h-2V7h2v10zm4 0h-2v-4h2v4z\"/>\n",
              "    </g>\n",
              "</svg>\n",
              "  </button>\n",
              "\n",
              "<style>\n",
              "  .colab-df-quickchart {\n",
              "      --bg-color: #E8F0FE;\n",
              "      --fill-color: #1967D2;\n",
              "      --hover-bg-color: #E2EBFA;\n",
              "      --hover-fill-color: #174EA6;\n",
              "      --disabled-fill-color: #AAA;\n",
              "      --disabled-bg-color: #DDD;\n",
              "  }\n",
              "\n",
              "  [theme=dark] .colab-df-quickchart {\n",
              "      --bg-color: #3B4455;\n",
              "      --fill-color: #D2E3FC;\n",
              "      --hover-bg-color: #434B5C;\n",
              "      --hover-fill-color: #FFFFFF;\n",
              "      --disabled-bg-color: #3B4455;\n",
              "      --disabled-fill-color: #666;\n",
              "  }\n",
              "\n",
              "  .colab-df-quickchart {\n",
              "    background-color: var(--bg-color);\n",
              "    border: none;\n",
              "    border-radius: 50%;\n",
              "    cursor: pointer;\n",
              "    display: none;\n",
              "    fill: var(--fill-color);\n",
              "    height: 32px;\n",
              "    padding: 0;\n",
              "    width: 32px;\n",
              "  }\n",
              "\n",
              "  .colab-df-quickchart:hover {\n",
              "    background-color: var(--hover-bg-color);\n",
              "    box-shadow: 0 1px 2px rgba(60, 64, 67, 0.3), 0 1px 3px 1px rgba(60, 64, 67, 0.15);\n",
              "    fill: var(--button-hover-fill-color);\n",
              "  }\n",
              "\n",
              "  .colab-df-quickchart-complete:disabled,\n",
              "  .colab-df-quickchart-complete:disabled:hover {\n",
              "    background-color: var(--disabled-bg-color);\n",
              "    fill: var(--disabled-fill-color);\n",
              "    box-shadow: none;\n",
              "  }\n",
              "\n",
              "  .colab-df-spinner {\n",
              "    border: 2px solid var(--fill-color);\n",
              "    border-color: transparent;\n",
              "    border-bottom-color: var(--fill-color);\n",
              "    animation:\n",
              "      spin 1s steps(1) infinite;\n",
              "  }\n",
              "\n",
              "  @keyframes spin {\n",
              "    0% {\n",
              "      border-color: transparent;\n",
              "      border-bottom-color: var(--fill-color);\n",
              "      border-left-color: var(--fill-color);\n",
              "    }\n",
              "    20% {\n",
              "      border-color: transparent;\n",
              "      border-left-color: var(--fill-color);\n",
              "      border-top-color: var(--fill-color);\n",
              "    }\n",
              "    30% {\n",
              "      border-color: transparent;\n",
              "      border-left-color: var(--fill-color);\n",
              "      border-top-color: var(--fill-color);\n",
              "      border-right-color: var(--fill-color);\n",
              "    }\n",
              "    40% {\n",
              "      border-color: transparent;\n",
              "      border-right-color: var(--fill-color);\n",
              "      border-top-color: var(--fill-color);\n",
              "    }\n",
              "    60% {\n",
              "      border-color: transparent;\n",
              "      border-right-color: var(--fill-color);\n",
              "    }\n",
              "    80% {\n",
              "      border-color: transparent;\n",
              "      border-right-color: var(--fill-color);\n",
              "      border-bottom-color: var(--fill-color);\n",
              "    }\n",
              "    90% {\n",
              "      border-color: transparent;\n",
              "      border-bottom-color: var(--fill-color);\n",
              "    }\n",
              "  }\n",
              "</style>\n",
              "\n",
              "  <script>\n",
              "    async function quickchart(key) {\n",
              "      const quickchartButtonEl =\n",
              "        document.querySelector('#' + key + ' button');\n",
              "      quickchartButtonEl.disabled = true;  // To prevent multiple clicks.\n",
              "      quickchartButtonEl.classList.add('colab-df-spinner');\n",
              "      try {\n",
              "        const charts = await google.colab.kernel.invokeFunction(\n",
              "            'suggestCharts', [key], {});\n",
              "      } catch (error) {\n",
              "        console.error('Error during call to suggestCharts:', error);\n",
              "      }\n",
              "      quickchartButtonEl.classList.remove('colab-df-spinner');\n",
              "      quickchartButtonEl.classList.add('colab-df-quickchart-complete');\n",
              "    }\n",
              "    (() => {\n",
              "      let quickchartButtonEl =\n",
              "        document.querySelector('#df-9a6a8e71-9616-4d01-a297-5903fd0924f3 button');\n",
              "      quickchartButtonEl.style.display =\n",
              "        google.colab.kernel.accessAllowed ? 'block' : 'none';\n",
              "    })();\n",
              "  </script>\n",
              "</div>\n",
              "\n",
              "    </div>\n",
              "  </div>\n"
            ],
            "application/vnd.google.colaboratory.intrinsic+json": {
              "type": "dataframe",
              "variable_name": "df"
            }
          },
          "metadata": {},
          "execution_count": 4
        }
      ],
      "source": [
        "# Carga y renombra los nombres de las columnas del alemán al inglés y desplegamos\n",
        "# de nuevo el DataFrame para ver el resultado obtenido:\n",
        "\n",
        "df = pd.read_csv(\"SouthGermanCredit.asc\", sep=' ')\n",
        "df.rename(columns={\n",
        "    \"laufkont\": \"status\", \"laufzeit\": \"duration\", \"moral\": \"credit_history\",\n",
        "    \"verw\": \"purpose\", \"hoehe\": \"amount\", \"sparkont\": \"savings\",\n",
        "    \"beszeit\": \"employment_duration\", \"rate\": \"installment_rate\",\n",
        "    \"famges\": \"personal_status_sex\", \"buerge\": \"other_debtors\",\n",
        "    \"wohnzeit\": \"present_residence\", \"verm\": \"property\", \"alter\": \"age\",\n",
        "    \"weitkred\": \"other_installment_plans\", \"wohn\": \"housing\",\n",
        "    \"bishkred\": \"number_credits\", \"beruf\": \"job\", \"pers\": \"people_liable\",\n",
        "    \"telef\": \"telephone\", \"gastarb\": \"foreign_worker\", \"kredit\": \"credit_risk\"\n",
        "}, inplace=True)\n",
        "\n",
        "df.head().T"
      ]
    },
    {
      "cell_type": "markdown",
      "metadata": {
        "id": "LckYCS8SlnFo"
      },
      "source": [
        "## **Ejercicio 2**"
      ]
    },
    {
      "cell_type": "code",
      "execution_count": null,
      "metadata": {
        "colab": {
          "base_uri": "https://localhost:8080/"
        },
        "id": "Tlg8jYbnlqNA",
        "outputId": "0253d5ea-e651-4f5c-9db0-484382ca8f86"
      },
      "outputs": [
        {
          "output_type": "stream",
          "name": "stdout",
          "text": [
            "credit_risk\n",
            "0    700\n",
            "1    300\n",
            "Name: count, dtype: int64\n"
          ]
        }
      ],
      "source": [
        "# Los datos originales tienen en la variable de salida \"credit_risk\" a la clase negativa (buen cliente) con el valor de 1\n",
        "# y a la clase de interés positiva (mal cliente) con el valor de 0. Realiza a continuación una transformación para que la\n",
        "# clase negativa (buen cliente) quede ahora con el valor de 0 y la clase positiva (mal cliente) quede con el valor de 1.\n",
        "df['credit_risk'] = df.apply(lambda row: 1 if row['credit_risk'] == 0 else 0, axis=1)\n",
        "print(df['credit_risk'].value_counts())"
      ]
    },
    {
      "cell_type": "markdown",
      "metadata": {
        "id": "qQx2lbzTkEsQ"
      },
      "source": [
        "## **Ejercicio 3**"
      ]
    },
    {
      "cell_type": "code",
      "execution_count": null,
      "metadata": {
        "colab": {
          "base_uri": "https://localhost:8080/"
        },
        "id": "TP5-zdWVczhy",
        "outputId": "e22d253c-f07f-490a-bbef-2a120c9a29bb"
      },
      "outputs": [
        {
          "output_type": "stream",
          "name": "stdout",
          "text": [
            "Dimensiones:\n",
            "Entrenamiento: (700, 20) (700,)\n",
            "Validación: (150, 20) (150,)\n",
            "Prueba: (150, 20) (150,)\n",
            "\n",
            "Porcentaje clases Positiva: 70.00%, y Negativa: 30.00%\n"
          ]
        }
      ],
      "source": [
        "# Realiza una partición de 70-15-15 en entrenamiento, validación y prueba.\n",
        "# Los nombres de los conjuntos deberán ser como se indican en los print de abajo:\n",
        "\n",
        "# ************* Inlcuye aquí tu código:*****************************\n",
        "X = df.drop('credit_risk', axis='columns')\n",
        "y = df['credit_risk']\n",
        "\n",
        "Xtrain, Xval, ytrain, yval = train_test_split(X, y, test_size=.30, stratify=y)\n",
        "Xtest, Xval, ytest, yval = train_test_split(Xval, yval, test_size=.50, stratify=yval)\n",
        "# *********** Aquí termina la sección de agregar código *************\n",
        "\n",
        "\n",
        "# Mostremos las dimensiones de la partición generada:\n",
        "print(\"Dimensiones:\")\n",
        "print(\"Entrenamiento:\", Xtrain.shape, ytrain.shape)\n",
        "print(\"Validación:\", Xval.shape, yval.shape)\n",
        "print(\"Prueba:\", Xtest.shape, ytest.shape)\n",
        "\n",
        "# Mostrar el porcentaje de cada clase de la variable de salida en el conjunto de entrenamiento\n",
        "tmp = ytrain.sum()/ytrain.shape[0]\n",
        "print(\"\\nPorcentaje clases Positiva: %.2f%%, y Negativa: %.2f%%\" % (100*(1-tmp), tmp*100))\n"
      ]
    },
    {
      "cell_type": "markdown",
      "metadata": {
        "id": "ptwAm_mOjVWH"
      },
      "source": [
        "### **Con base al porcentaje de los niveles de la variable de salida ¿podemos decir que tenemos un problema de datos desbalanceado? ¿Por qué?**\n",
        "\n",
        "Si bien la  proporción 70/30 es considerada viable en muchos foros de internet,  aun puede tener impacto en el desempeño de un modelo, pues dicho desbalanceo podría causar problemas de clasificación sobre la clase positiva. Los modelos de ML pueden tener problemas para generalizar la solución y por tanto presentar sobreajuste.\n",
        "\n"
      ]
    },
    {
      "cell_type": "markdown",
      "metadata": {
        "id": "ocmGcSC2j_2x"
      },
      "source": [
        "## **Ejercicio 4**"
      ]
    },
    {
      "cell_type": "code",
      "execution_count": null,
      "metadata": {
        "colab": {
          "base_uri": "https://localhost:8080/"
        },
        "id": "tHKXSzsjhL4z",
        "outputId": "1e1ec0b3-0868-40ac-f9ad-c541772779d1"
      },
      "outputs": [
        {
          "output_type": "stream",
          "name": "stdout",
          "text": [
            "Cantidad de variables categóricas nominales: 6\n",
            "Cantidad de variables categóricas binarias: 4\n",
            "Cantidad de variables odinales cuantitativas: 5\n",
            "Cantidad de variables odinales: 3\n",
            "Cantidad de variables enteras: 3\n",
            "\n",
            "\n",
            "                   Variable                     Tipo  Niveles\n",
            "9               credit_risk                  Binaria        2\n",
            "8            foreign_worker                  Binaria        2\n",
            "6             people_liable                  Binaria        2\n",
            "7                 telephone                  Binaria        2\n",
            "20                      age                   Entero       53\n",
            "19                   amount                   Entero      923\n",
            "18                 duration                   Entero       33\n",
            "0            credit_history                  Nominal        5\n",
            "5                   housing                  Nominal        3\n",
            "3             other_debtors                  Nominal        3\n",
            "4   other_installment_plans                  Nominal        3\n",
            "2       personal_status_sex                  Nominal        4\n",
            "1                   purpose                  Nominal       10\n",
            "15         installment_rate                Ordinales        4\n",
            "17           number_credits                Ordinales        4\n",
            "16        present_residence                Ordinales        4\n",
            "12      employment_duration  Ordinales cuantitativas        5\n",
            "14                      job  Ordinales cuantitativas        4\n",
            "13                 property  Ordinales cuantitativas        4\n",
            "11                  savings  Ordinales cuantitativas        5\n",
            "10                   status  Ordinales cuantitativas        4\n"
          ]
        }
      ],
      "source": [
        "#variables categóricas nominales y contar niveles\n",
        "nominales = ['credit_history','purpose','personal_status_sex','other_debtors','other_installment_plans','housing']\n",
        "variables_nominales = {}\n",
        "for col in nominales:\n",
        "    variables_nominales[col] = df[col].nunique()\n",
        "cantidad_nominales = len(variables_nominales)\n",
        "\n",
        "#varibles binarias\n",
        "binarias = ['people_liable', 'telephone', 'foreign_worker','credit_risk']\n",
        "variables_binarias = {}\n",
        "for col in binarias:\n",
        "  variables_binarias[col] = df[col].nunique()\n",
        "cantidad_binarias = len(variables_binarias)\n",
        "\n",
        "#variables ordinales cuantitativas\n",
        "ordinales_cuantitativas = ['status', 'savings','employment_duration', 'property', 'job']\n",
        "variables_ordinales_cuantitativas = {}\n",
        "for col in ordinales_cuantitativas:\n",
        "  variables_ordinales_cuantitativas[col] = df[col].nunique()\n",
        "cantidad_ordinales_cuantitativas = len(variables_ordinales_cuantitativas)\n",
        "\n",
        "#variables ordinales\n",
        "ordinales = ['installment_rate','present_residence','number_credits']\n",
        "variables_ordinales = {}\n",
        "for col in ordinales:\n",
        "  variables_ordinales[col] = df[col].nunique()\n",
        "cantidad_ordinales = len(variables_ordinales)\n",
        "\n",
        "#variables numéricas de valor entero\n",
        "enteras =  ['duration', 'amount','age']\n",
        "variables_enteras = {}\n",
        "for col in enteras:\n",
        "  variables_enteras[col] = df[col].nunique()\n",
        "cantidad_enteras = len(variables_enteras)\n",
        "\n",
        "print(\"Cantidad de variables categóricas nominales:\", cantidad_nominales)\n",
        "print(\"Cantidad de variables categóricas binarias:\", cantidad_binarias)\n",
        "print(\"Cantidad de variables odinales cuantitativas:\", cantidad_ordinales_cuantitativas)\n",
        "print(\"Cantidad de variables odinales:\", cantidad_ordinales)\n",
        "print(\"Cantidad de variables enteras:\", cantidad_enteras)\n",
        "#crear una lista para almacenar los resultados\n",
        "resultados = []\n",
        "\n",
        "#agregar variables categóricas nominales\n",
        "for var, niveles in variables_nominales.items():\n",
        "    resultados.append({'Variable': var, 'Tipo': 'Nominal', 'Niveles': niveles})\n",
        "for var, niveles in variables_binarias.items():\n",
        "    resultados.append({'Variable': var, 'Tipo': 'Binaria', 'Niveles': niveles})\n",
        "for var, niveles in variables_ordinales_cuantitativas.items():\n",
        "    resultados.append({'Variable': var, 'Tipo': 'Ordinales cuantitativas', 'Niveles': niveles})\n",
        "for var, niveles in variables_ordinales.items():\n",
        "    resultados.append({'Variable': var, 'Tipo': 'Ordinales', 'Niveles': niveles})\n",
        "for var, niveles in variables_enteras.items():\n",
        "    resultados.append({'Variable': var, 'Tipo': 'Entero', 'Niveles': niveles})\n",
        "#convertir la lista de resultados en un DataFrame\n",
        "resultados_df = pd.DataFrame(resultados)\n",
        "print('\\n')\n",
        "#mostrar los resultados ordenados por tipo de variable\n",
        "resultados_df = resultados_df.sort_values(by=['Tipo', 'Variable'])\n",
        "print(resultados_df)"
      ]
    },
    {
      "cell_type": "markdown",
      "metadata": {
        "id": "EgO8Jh2bXrL0"
      },
      "source": [
        "### **Describe a continuación la información de cada variable: su descripción, el tipo de variable y para el caso de las categóricas, el total de niveles.**\n",
        "\n",
        "\n",
        "### **6 Variables de entrada Categóricas Nominales:**\n",
        "\n",
        "*   **credit_history (total de niveles):** Historial crediticio de los clientes segmentado en un total de 5 tipos o niveles.\n",
        "*   **purpose (total de niveles):**  El propósito para el cual se emplean los creditos solicitados, esta variable tiene un total de 11 propositos distintos.\n",
        "*   **personal_status_sex (total de niveles):** Es el estado civil del cliente, tiene un total de 4 estados distintos.\n",
        "*   **other_debtors (total de niveles):** Describe si el cliente tiene un co-aplicante al credito o un aval (garante), tiene un total de 3 categorías.\n",
        "*   **other_installment_plans (total de niveles):** Se refiere si el cliente tiene otros planes de pagos con otros bancos o tiendas. Cuenta con un total de 3 categorías.\n",
        "*   **housing (total de niveles):** Indica el estado del cliente con relación a su casa: si es rentada, alquilada o la adquirió gratuitamente. Tiene 3 clases.\n",
        "\n",
        "\n",
        "### **4 Variables Categóricas Binarias (3 de entrada y 1 de salida):**\n",
        "\n",
        "*   **people_liable:** Son las categorías en 2 rangos del numero de personas financieramente responsables en el hogar del cliente.\n",
        "*   **telephone:** Esta variable indica si el cliente tiene o no un  telefono registrado a su nombre.\n",
        "*   **foreign_worker:** Esta variable establece si es o no trabajador extranjero.\n",
        "*   **credit_risk:** (Variable de salida) Esta variable indica si la clasificación del riesgo crediticio del solicitante es buena o mala.\n",
        "\n",
        "\n",
        "### **5 Variables Categóricas Ordinales (Cuantitativas Discretas + Strings):**\n",
        "\n",
        "#### NOTA: Estas variables están formadas por niveles que contienen intervalos numéricos y de texto.\n",
        "\n",
        "\n",
        "*   **status (total de niveles):**  Esta variable habla del estado de la cuenta corriente del cliente, tiene en total 4 niveles que indican la existencia o niveles de saldo de la cuenta.\n",
        "*   **savings (total de niveles):** El nivel de ahorro del solicitante en la cuenta de ahorro, en total hay 5 niveles, que segmentan distintos niveles de ahorro o si el solicitante no tiene cuenta de ahorro.\n",
        "*   **employment_duration (total de niveles):** El tiempo que ha estado empleado el cliente medido en años y segmentado en distintos rangos o si el cliente esta desempleado. En total esta variable cuenta con 5 niveles.\n",
        "*   **property (total de niveles):** Indica si el solicitante cuenta con propiedades y el tipo de propiedad en caso de que tenga. Cuenta con 4 niveles.\n",
        "*   **job (total de niveles):** Esta variable cuenta con 4 niveles en total, los cuales describen el tipo de empleo del solicitante.\n",
        "\n",
        "\n",
        "### **3 Variables Categóricas Ordinales:**\n",
        "### NOTA: Estas categóricas ordinales están formadas solo por intervalos numéricos.\n",
        "\n",
        "*   **installment_rate (total de niveles):**  Esta variable indica la proporción que representan las cuotas que el cliente paga al mes respecto a sus ingresos. En total cuenta con 4 niveles.\n",
        "*   **present_residence (total de niveles):** Esta variable establece el tiempo, segmentado en rangos, que el cliente ha estado viviendo en su residencia actual. En total tiene 4 niveles.\n",
        "*   **number_credits (total de niveles):** Esta variable indica el numero de creditos que el cliente tiene, hay 4 niveles en total que establecen el rango de la cantidad de creditos.\n",
        "\n",
        "\n",
        "\n",
        "### **3 Variables Numéricas reales o flotantes:**\n",
        "*   **duration:** Este atributo o variable indica el numero de meses en que se espera que el cliente devuelva el préstamo.\n",
        "*   **amount:** Esta variable indica el monto en unidades moentarias del credito que solicitó el cliente.\n",
        "*   **age:** Edad del cliente medidada en años al moemnto de solicitar el credito.\n"
      ]
    },
    {
      "cell_type": "markdown",
      "metadata": {
        "id": "zb5bE4WJj8Rw"
      },
      "source": [
        "## **Ejercicio 5**"
      ]
    },
    {
      "cell_type": "markdown",
      "metadata": {
        "id": "urAFNUyMjodn"
      },
      "source": [
        "### Análisis descriptivo de las variables usando el conjunto de entrenamiento.\n",
        "\n",
        "### Incluye a continuación todo el código que consideres necesario para analizar las variables y decidir en dado caso qué transformaciones les estarías aplicando."
      ]
    },
    {
      "cell_type": "markdown",
      "metadata": {
        "id": "g2__nXjL3Ecw"
      },
      "source": [
        "Hitogramas de variables numericas:"
      ]
    },
    {
      "cell_type": "code",
      "execution_count": null,
      "metadata": {
        "colab": {
          "base_uri": "https://localhost:8080/",
          "height": 827
        },
        "id": "2SaGovnCxTVA",
        "outputId": "2b80d193-b43b-461b-bf7d-0b9dec2c9f40"
      },
      "outputs": [
        {
          "output_type": "stream",
          "name": "stdout",
          "text": [
            "----------Statistics of Numerical Variables-------------\n"
          ]
        },
        {
          "output_type": "display_data",
          "data": {
            "text/plain": [
              "         duration        amount         age\n",
              "count  700.000000    700.000000  700.000000\n",
              "mean    20.714286   3292.088571   35.461429\n",
              "std     12.089725   2858.819503   11.541550\n",
              "min      4.000000    250.000000   19.000000\n",
              "25%     12.000000   1343.250000   27.000000\n",
              "50%     18.000000   2319.500000   33.000000\n",
              "75%     24.000000   3981.750000   41.250000\n",
              "max     72.000000  18424.000000   75.000000"
            ],
            "text/html": [
              "\n",
              "  <div id=\"df-f6b357ae-42fc-4749-9612-e80410e3bc4c\" class=\"colab-df-container\">\n",
              "    <div>\n",
              "<style scoped>\n",
              "    .dataframe tbody tr th:only-of-type {\n",
              "        vertical-align: middle;\n",
              "    }\n",
              "\n",
              "    .dataframe tbody tr th {\n",
              "        vertical-align: top;\n",
              "    }\n",
              "\n",
              "    .dataframe thead th {\n",
              "        text-align: right;\n",
              "    }\n",
              "</style>\n",
              "<table border=\"1\" class=\"dataframe\">\n",
              "  <thead>\n",
              "    <tr style=\"text-align: right;\">\n",
              "      <th></th>\n",
              "      <th>duration</th>\n",
              "      <th>amount</th>\n",
              "      <th>age</th>\n",
              "    </tr>\n",
              "  </thead>\n",
              "  <tbody>\n",
              "    <tr>\n",
              "      <th>count</th>\n",
              "      <td>700.000000</td>\n",
              "      <td>700.000000</td>\n",
              "      <td>700.000000</td>\n",
              "    </tr>\n",
              "    <tr>\n",
              "      <th>mean</th>\n",
              "      <td>20.714286</td>\n",
              "      <td>3292.088571</td>\n",
              "      <td>35.461429</td>\n",
              "    </tr>\n",
              "    <tr>\n",
              "      <th>std</th>\n",
              "      <td>12.089725</td>\n",
              "      <td>2858.819503</td>\n",
              "      <td>11.541550</td>\n",
              "    </tr>\n",
              "    <tr>\n",
              "      <th>min</th>\n",
              "      <td>4.000000</td>\n",
              "      <td>250.000000</td>\n",
              "      <td>19.000000</td>\n",
              "    </tr>\n",
              "    <tr>\n",
              "      <th>25%</th>\n",
              "      <td>12.000000</td>\n",
              "      <td>1343.250000</td>\n",
              "      <td>27.000000</td>\n",
              "    </tr>\n",
              "    <tr>\n",
              "      <th>50%</th>\n",
              "      <td>18.000000</td>\n",
              "      <td>2319.500000</td>\n",
              "      <td>33.000000</td>\n",
              "    </tr>\n",
              "    <tr>\n",
              "      <th>75%</th>\n",
              "      <td>24.000000</td>\n",
              "      <td>3981.750000</td>\n",
              "      <td>41.250000</td>\n",
              "    </tr>\n",
              "    <tr>\n",
              "      <th>max</th>\n",
              "      <td>72.000000</td>\n",
              "      <td>18424.000000</td>\n",
              "      <td>75.000000</td>\n",
              "    </tr>\n",
              "  </tbody>\n",
              "</table>\n",
              "</div>\n",
              "    <div class=\"colab-df-buttons\">\n",
              "\n",
              "  <div class=\"colab-df-container\">\n",
              "    <button class=\"colab-df-convert\" onclick=\"convertToInteractive('df-f6b357ae-42fc-4749-9612-e80410e3bc4c')\"\n",
              "            title=\"Convert this dataframe to an interactive table.\"\n",
              "            style=\"display:none;\">\n",
              "\n",
              "  <svg xmlns=\"http://www.w3.org/2000/svg\" height=\"24px\" viewBox=\"0 -960 960 960\">\n",
              "    <path d=\"M120-120v-720h720v720H120Zm60-500h600v-160H180v160Zm220 220h160v-160H400v160Zm0 220h160v-160H400v160ZM180-400h160v-160H180v160Zm440 0h160v-160H620v160ZM180-180h160v-160H180v160Zm440 0h160v-160H620v160Z\"/>\n",
              "  </svg>\n",
              "    </button>\n",
              "\n",
              "  <style>\n",
              "    .colab-df-container {\n",
              "      display:flex;\n",
              "      gap: 12px;\n",
              "    }\n",
              "\n",
              "    .colab-df-convert {\n",
              "      background-color: #E8F0FE;\n",
              "      border: none;\n",
              "      border-radius: 50%;\n",
              "      cursor: pointer;\n",
              "      display: none;\n",
              "      fill: #1967D2;\n",
              "      height: 32px;\n",
              "      padding: 0 0 0 0;\n",
              "      width: 32px;\n",
              "    }\n",
              "\n",
              "    .colab-df-convert:hover {\n",
              "      background-color: #E2EBFA;\n",
              "      box-shadow: 0px 1px 2px rgba(60, 64, 67, 0.3), 0px 1px 3px 1px rgba(60, 64, 67, 0.15);\n",
              "      fill: #174EA6;\n",
              "    }\n",
              "\n",
              "    .colab-df-buttons div {\n",
              "      margin-bottom: 4px;\n",
              "    }\n",
              "\n",
              "    [theme=dark] .colab-df-convert {\n",
              "      background-color: #3B4455;\n",
              "      fill: #D2E3FC;\n",
              "    }\n",
              "\n",
              "    [theme=dark] .colab-df-convert:hover {\n",
              "      background-color: #434B5C;\n",
              "      box-shadow: 0px 1px 3px 1px rgba(0, 0, 0, 0.15);\n",
              "      filter: drop-shadow(0px 1px 2px rgba(0, 0, 0, 0.3));\n",
              "      fill: #FFFFFF;\n",
              "    }\n",
              "  </style>\n",
              "\n",
              "    <script>\n",
              "      const buttonEl =\n",
              "        document.querySelector('#df-f6b357ae-42fc-4749-9612-e80410e3bc4c button.colab-df-convert');\n",
              "      buttonEl.style.display =\n",
              "        google.colab.kernel.accessAllowed ? 'block' : 'none';\n",
              "\n",
              "      async function convertToInteractive(key) {\n",
              "        const element = document.querySelector('#df-f6b357ae-42fc-4749-9612-e80410e3bc4c');\n",
              "        const dataTable =\n",
              "          await google.colab.kernel.invokeFunction('convertToInteractive',\n",
              "                                                    [key], {});\n",
              "        if (!dataTable) return;\n",
              "\n",
              "        const docLinkHtml = 'Like what you see? Visit the ' +\n",
              "          '<a target=\"_blank\" href=https://colab.research.google.com/notebooks/data_table.ipynb>data table notebook</a>'\n",
              "          + ' to learn more about interactive tables.';\n",
              "        element.innerHTML = '';\n",
              "        dataTable['output_type'] = 'display_data';\n",
              "        await google.colab.output.renderOutput(dataTable, element);\n",
              "        const docLink = document.createElement('div');\n",
              "        docLink.innerHTML = docLinkHtml;\n",
              "        element.appendChild(docLink);\n",
              "      }\n",
              "    </script>\n",
              "  </div>\n",
              "\n",
              "\n",
              "<div id=\"df-cfdd67d6-d9d1-43a2-945a-4b4c541ae1b0\">\n",
              "  <button class=\"colab-df-quickchart\" onclick=\"quickchart('df-cfdd67d6-d9d1-43a2-945a-4b4c541ae1b0')\"\n",
              "            title=\"Suggest charts\"\n",
              "            style=\"display:none;\">\n",
              "\n",
              "<svg xmlns=\"http://www.w3.org/2000/svg\" height=\"24px\"viewBox=\"0 0 24 24\"\n",
              "     width=\"24px\">\n",
              "    <g>\n",
              "        <path d=\"M19 3H5c-1.1 0-2 .9-2 2v14c0 1.1.9 2 2 2h14c1.1 0 2-.9 2-2V5c0-1.1-.9-2-2-2zM9 17H7v-7h2v7zm4 0h-2V7h2v10zm4 0h-2v-4h2v4z\"/>\n",
              "    </g>\n",
              "</svg>\n",
              "  </button>\n",
              "\n",
              "<style>\n",
              "  .colab-df-quickchart {\n",
              "      --bg-color: #E8F0FE;\n",
              "      --fill-color: #1967D2;\n",
              "      --hover-bg-color: #E2EBFA;\n",
              "      --hover-fill-color: #174EA6;\n",
              "      --disabled-fill-color: #AAA;\n",
              "      --disabled-bg-color: #DDD;\n",
              "  }\n",
              "\n",
              "  [theme=dark] .colab-df-quickchart {\n",
              "      --bg-color: #3B4455;\n",
              "      --fill-color: #D2E3FC;\n",
              "      --hover-bg-color: #434B5C;\n",
              "      --hover-fill-color: #FFFFFF;\n",
              "      --disabled-bg-color: #3B4455;\n",
              "      --disabled-fill-color: #666;\n",
              "  }\n",
              "\n",
              "  .colab-df-quickchart {\n",
              "    background-color: var(--bg-color);\n",
              "    border: none;\n",
              "    border-radius: 50%;\n",
              "    cursor: pointer;\n",
              "    display: none;\n",
              "    fill: var(--fill-color);\n",
              "    height: 32px;\n",
              "    padding: 0;\n",
              "    width: 32px;\n",
              "  }\n",
              "\n",
              "  .colab-df-quickchart:hover {\n",
              "    background-color: var(--hover-bg-color);\n",
              "    box-shadow: 0 1px 2px rgba(60, 64, 67, 0.3), 0 1px 3px 1px rgba(60, 64, 67, 0.15);\n",
              "    fill: var(--button-hover-fill-color);\n",
              "  }\n",
              "\n",
              "  .colab-df-quickchart-complete:disabled,\n",
              "  .colab-df-quickchart-complete:disabled:hover {\n",
              "    background-color: var(--disabled-bg-color);\n",
              "    fill: var(--disabled-fill-color);\n",
              "    box-shadow: none;\n",
              "  }\n",
              "\n",
              "  .colab-df-spinner {\n",
              "    border: 2px solid var(--fill-color);\n",
              "    border-color: transparent;\n",
              "    border-bottom-color: var(--fill-color);\n",
              "    animation:\n",
              "      spin 1s steps(1) infinite;\n",
              "  }\n",
              "\n",
              "  @keyframes spin {\n",
              "    0% {\n",
              "      border-color: transparent;\n",
              "      border-bottom-color: var(--fill-color);\n",
              "      border-left-color: var(--fill-color);\n",
              "    }\n",
              "    20% {\n",
              "      border-color: transparent;\n",
              "      border-left-color: var(--fill-color);\n",
              "      border-top-color: var(--fill-color);\n",
              "    }\n",
              "    30% {\n",
              "      border-color: transparent;\n",
              "      border-left-color: var(--fill-color);\n",
              "      border-top-color: var(--fill-color);\n",
              "      border-right-color: var(--fill-color);\n",
              "    }\n",
              "    40% {\n",
              "      border-color: transparent;\n",
              "      border-right-color: var(--fill-color);\n",
              "      border-top-color: var(--fill-color);\n",
              "    }\n",
              "    60% {\n",
              "      border-color: transparent;\n",
              "      border-right-color: var(--fill-color);\n",
              "    }\n",
              "    80% {\n",
              "      border-color: transparent;\n",
              "      border-right-color: var(--fill-color);\n",
              "      border-bottom-color: var(--fill-color);\n",
              "    }\n",
              "    90% {\n",
              "      border-color: transparent;\n",
              "      border-bottom-color: var(--fill-color);\n",
              "    }\n",
              "  }\n",
              "</style>\n",
              "\n",
              "  <script>\n",
              "    async function quickchart(key) {\n",
              "      const quickchartButtonEl =\n",
              "        document.querySelector('#' + key + ' button');\n",
              "      quickchartButtonEl.disabled = true;  // To prevent multiple clicks.\n",
              "      quickchartButtonEl.classList.add('colab-df-spinner');\n",
              "      try {\n",
              "        const charts = await google.colab.kernel.invokeFunction(\n",
              "            'suggestCharts', [key], {});\n",
              "      } catch (error) {\n",
              "        console.error('Error during call to suggestCharts:', error);\n",
              "      }\n",
              "      quickchartButtonEl.classList.remove('colab-df-spinner');\n",
              "      quickchartButtonEl.classList.add('colab-df-quickchart-complete');\n",
              "    }\n",
              "    (() => {\n",
              "      let quickchartButtonEl =\n",
              "        document.querySelector('#df-cfdd67d6-d9d1-43a2-945a-4b4c541ae1b0 button');\n",
              "      quickchartButtonEl.style.display =\n",
              "        google.colab.kernel.accessAllowed ? 'block' : 'none';\n",
              "    })();\n",
              "  </script>\n",
              "</div>\n",
              "\n",
              "    </div>\n",
              "  </div>\n"
            ],
            "application/vnd.google.colaboratory.intrinsic+json": {
              "type": "dataframe",
              "summary": "{\n  \"name\": \"plt\",\n  \"rows\": 8,\n  \"fields\": [\n    {\n      \"column\": \"duration\",\n      \"properties\": {\n        \"dtype\": \"number\",\n        \"std\": 240.16821424457393,\n        \"min\": 4.0,\n        \"max\": 700.0,\n        \"num_unique_values\": 8,\n        \"samples\": [\n          20.714285714285715,\n          18.0,\n          700.0\n        ],\n        \"semantic_type\": \"\",\n        \"description\": \"\"\n      }\n    },\n    {\n      \"column\": \"amount\",\n      \"properties\": {\n        \"dtype\": \"number\",\n        \"std\": 5910.275579590208,\n        \"min\": 250.0,\n        \"max\": 18424.0,\n        \"num_unique_values\": 8,\n        \"samples\": [\n          3292.0885714285714,\n          2319.5,\n          700.0\n        ],\n        \"semantic_type\": \"\",\n        \"description\": \"\"\n      }\n    },\n    {\n      \"column\": \"age\",\n      \"properties\": {\n        \"dtype\": \"number\",\n        \"std\": 236.01337683242585,\n        \"min\": 11.541550152839651,\n        \"max\": 700.0,\n        \"num_unique_values\": 8,\n        \"samples\": [\n          35.46142857142857,\n          33.0,\n          700.0\n        ],\n        \"semantic_type\": \"\",\n        \"description\": \"\"\n      }\n    }\n  ]\n}"
            }
          },
          "metadata": {}
        },
        {
          "output_type": "stream",
          "name": "stdout",
          "text": [
            "--------------------------------------------------------\n"
          ]
        },
        {
          "output_type": "display_data",
          "data": {
            "text/plain": [
              "<Figure size 1200x500 with 3 Axes>"
            ],
            "image/png": "[encoded data removed]"
          },
          "metadata": {}
        }
      ],
      "source": [
        "numerical_variables_list = [\"duration\", \"amount\", \"age\"]\n",
        "\n",
        "numerical_variables = Xtrain[numerical_variables_list]\n",
        "\n",
        "print(\"----------Statistics of Numerical Variables-------------\")\n",
        "display(numerical_variables.describe())\n",
        "\n",
        "print(\"--------------------------------------------------------\")\n",
        "sns.set(rc={'figure.figsize': (12,5)})\n",
        "fig, axes = plt.subplots(1, 3)\n",
        "for i in range(3):\n",
        "          num_of_bins = 18 #int(np.log2(len(numerical_variables.iloc[:,i])))+1 #Sturges rule\n",
        "          sns.histplot(numerical_variables.iloc[:, i], bins=num_of_bins, kde=True, color=\"blue\", ax=axes[i])\n",
        "          axes[i].set_xlabel(numerical_variables.columns[i])\n",
        "          axes[i].set_ylabel(\"Frequency\")\n",
        "\n",
        "plt.tight_layout()\n",
        "fig.suptitle(\"Numerical Variables Histogram\")\n",
        "plt.subplots_adjust(top=0.9)\n",
        "plt.show();"
      ]
    },
    {
      "cell_type": "markdown",
      "metadata": {
        "id": "_-W1Y9GxiW4Q"
      },
      "source": [
        "\n",
        "### **Describe y explica a continuación las transformaciones que has decidido aplicar a cada columna:**\n",
        "\n",
        "Al observar las columnas numéricas duration, amount y age tienen un sesgo positivo, es decir la cola de la derecha de la distribución es más larga, de acuerdo con la teoría esto puede solucionarse con la aplicación de logaritmo. En cuanto a las categoricas nominales, se aplicará one hot encoder, de acuerdo con las instrucciones, para generar las categorías en terminos binarios.\n"
      ]
    },
    {
      "cell_type": "markdown",
      "metadata": {
        "id": "B9i2CrLJs-1m"
      },
      "source": [
        "# **Parte II: Modelos de aprendizaje automático con los conjuntos originales de la partición realizada.**"
      ]
    },
    {
      "cell_type": "markdown",
      "metadata": {
        "id": "UJokj9Diyeu0"
      },
      "source": [
        "## **Ejercicio 6**"
      ]
    },
    {
      "cell_type": "code",
      "execution_count": null,
      "metadata": {
        "id": "NvNYiIp9weCm"
      },
      "outputs": [],
      "source": [
        "# Transformaciones que se aplicarán a las variables numéricas usando la clase Pipeline de sklearn:\n",
        "\n",
        "# Variables numéricas:\n",
        "num_pipe = Pipeline([('num_cols_transform',\n",
        "                      FunctionTransformer(lambda x: np.log(x)))])\n",
        "num_pipe_nombres = [\"duration\", \"amount\", \"age\"]\n",
        "\n",
        "\n",
        "\n",
        "# Variables categóricas-Nominales:\n",
        "cat_pipe = Pipeline([('catohe', OneHotEncoder(drop='first'))])\n",
        "cat_pipe_nombres = [\"credit_history\", \"purpose\", \"personal_status_sex\",\n",
        "                    \"other_debtors\", \"other_installment_plans\", \"housing\",\n",
        "                    \"people_liable\", \"telephone\", \"foreign_worker\"]\n",
        "\n",
        "\n",
        "# Conjuntemos las transformaciones de todo tipo de variable y\n",
        "# dejamos sin procesar aquellas que hayas decidido no transformar:\n",
        "\n",
        "columnasTransformer = ColumnTransformer([\n",
        "    (\"num_cols_transform\", num_pipe, num_pipe_nombres),\n",
        "    (\"cat_cols_transform\", cat_pipe, cat_pipe_nombres)\n",
        "], remainder='passthrough')"
      ]
    },
    {
      "cell_type": "markdown",
      "metadata": {
        "id": "hZxyRbHL0gNF"
      },
      "source": [
        "## **Ejercicio 7**"
      ]
    },
    {
      "cell_type": "code",
      "execution_count": null,
      "metadata": {
        "colab": {
          "base_uri": "https://localhost:8080/"
        },
        "id": "d3lqBiH5wd1e",
        "outputId": "6511a0af-46ab-4318-d881-4fa15886df8d"
      },
      "outputs": [
        {
          "output_type": "stream",
          "name": "stdout",
          "text": [
            "Dimensión de las variables de entrada ANTES de las transformaciones: (850, 20)\n",
            "Dimensión de las variables de entrada DESPUÉS de las transformaciones: (850, 36)\n"
          ]
        }
      ],
      "source": [
        "# Como se va a utilizar Validación-Cruzada, concatena los conjuntos de entrenamiento y validación\n",
        "# en uno nuevo conjunto aumentado que llamaremos trainval para utilizar como entrenamiento:\n",
        "\n",
        "Xtrainval = pd.concat([Xtrain, Xval], axis=0)\n",
        "ytrainval = pd.concat([ytrain, yval], axis=0)\n",
        "\n",
        "# Veamos cuántas varaibles nuevas se introducen con las transformaciones One-Hot-Encoding:\n",
        "Xtmp = Xtrainval.copy()\n",
        "tmp = columnasTransformer.fit_transform(Xtmp)\n",
        "print(\"Dimensión de las variables de entrada ANTES de las transformaciones:\", Xtmp.shape)\n",
        "print(\"Dimensión de las variables de entrada DESPUÉS de las transformaciones:\", tmp.shape)"
      ]
    },
    {
      "cell_type": "markdown",
      "metadata": {
        "id": "DyzIjcVAF6Y7"
      },
      "source": [
        "## **Ejercicio 8**"
      ]
    },
    {
      "cell_type": "code",
      "execution_count": null,
      "metadata": {
        "colab": {
          "base_uri": "https://localhost:8080/"
        },
        "id": "0hdi7AAtwd5G",
        "scrolled": true,
        "outputId": "b3964808-16d0-4538-a6ac-8475489e9fe6"
      },
      "outputs": [
        {
          "output_type": "stream",
          "name": "stdout",
          "text": [
            "Los mejores hiperparámetros para el modelo LR son {'C': 1, 'max_iter': 1000, 'solver': 'lbfgs'} con un score de 0.7635\n",
            "Los mejores hiperparámetros para el modelo kNN son {'metric': 'chebyshev', 'n_neighbors': 10, 'weights': 'uniform'} con un score de 0.6988\n",
            "Los mejores hiperparámetros para el modelo DTree son {'criterion': 'log_loss', 'max_depth': 30, 'max_features': 'sqrt', 'min_samples_leaf': 4, 'min_samples_split': 10, 'splitter': 'random'} con un score de 0.7341\n",
            "Los mejores hiperparámetros para el modelo RF son {'criterion': 'entropy', 'max_depth': None, 'max_features': 'sqrt', 'min_samples_leaf': 4, 'min_samples_split': 10, 'n_estimators': 100} con un score de 0.7753\n",
            "Los mejores hiperparámetros para el modelo XGBoost son {'colsample_bytree': 0.8, 'gamma': 0.3, 'learning_rate': 0.1, 'max_depth': 5, 'n_estimators': 50, 'subsample': 0.8} con un score de 0.7718\n",
            "Los mejores hiperparámetros para el modelo MLP son {'activation': 'tanh', 'alpha': 0.05, 'hidden_layer_sizes': (50, 100, 50), 'learning_rate': 'constant', 'solver': 'adam'} con un score de 0.7047\n",
            "Los mejores hiperparámetros para el modelo SVM son {'gamma': 'scale', 'kernel': 'rbf'} con un score de 0.7118\n"
          ]
        }
      ],
      "source": [
        "# Definimos a continuación la función que llamamos \"mis_modelos\" que incluye\n",
        "# todos los modelos que deseamos comparar en el ejercicio.\n",
        "\n",
        "\n",
        "def mis_modelos():\n",
        "  modelos, nombres = list(), list()\n",
        "\n",
        "\n",
        "  # ************* Inlcuye aquí tu código:**************************\n",
        "  #\n",
        "  # Deberás incluir en cada modelo los argumentos que consideres\n",
        "  # adecuados para que cada uno converja y no esté sobreentrenado\n",
        "  # con respecto a la métrica de la exatitud (accuracy).\n",
        "\n",
        "\n",
        "  # Regresión Logística - Logistic Regression-LR:\n",
        "  # https://scikit-learn.org/stable/modules/generated/sklearn.linear_model.LogisticRegression.html\n",
        "\n",
        "  modelos.append(LogisticRegression())\n",
        "  nombres.append('LR')\n",
        "\n",
        "\n",
        "\n",
        "\n",
        "  # k-Vecinos más Cercanos : k-Nearest-Neighbors-kNN:\n",
        "  # https://scikit-learn.org/stable/modules/generated/sklearn.neighbors.KNeighborsClassifier.html\n",
        "\n",
        "  modelos.append(KNeighborsClassifier())\n",
        "  nombres.append('kNN')\n",
        "\n",
        "\n",
        "\n",
        "\n",
        "  # Árbol de decisiones-DecisionTree-DT:\n",
        "  # https://scikit-learn.org/stable/modules/generated/sklearn.tree.DecisionTreeClassifier.html\n",
        "\n",
        "  modelos.append(DecisionTreeClassifier())\n",
        "  nombres.append('DTree')\n",
        "\n",
        "\n",
        "\n",
        "\n",
        "  # Bosque Aleatorio-RandomForest-RF:\n",
        "  # https://scikit-learn.org/stable/modules/generated/sklearn.ensemble.RandomForestClassifier.html\n",
        "\n",
        "  modelos.append(RandomForestClassifier())\n",
        "  nombres.append('RF')\n",
        "\n",
        "\n",
        "\n",
        "\n",
        "  # XGBoosting:\n",
        "  # https://xgboost.readthedocs.io/en/latest/python/python_api.html#xgboost.XGBClassifier\n",
        "  # https://xgboost.readthedocs.io/en/stable/parameter.html\n",
        "\n",
        "  modelos.append(XGBClassifier())\n",
        "  nombres.append('XGBoost')\n",
        "\n",
        "\n",
        "\n",
        "\n",
        "  # Red neuronal de Perceptrón Multicapa-MLP:\n",
        "  # https://scikit-learn.org/stable/modules/generated/sklearn.neural_network.MLPClassifier.html\n",
        "\n",
        "  modelos.append(MLPClassifier())\n",
        "  nombres.append('MLP')\n",
        "\n",
        "\n",
        "\n",
        "\n",
        "  # Máquina de Vectores de Soporte-SVM:\n",
        "  # https://scikit-learn.org/stable/modules/generated/sklearn.svm.SVC.html\n",
        "\n",
        "  modelos.append(SVC())\n",
        "  nombres.append('SVM')\n",
        "\n",
        "  return modelos, nombres\n",
        "\n",
        "\n",
        "\n",
        "\n",
        "# Entrenamos cada uno de los modelos y desplegamos la métricas de Train y Val.\n",
        "\n",
        "# NOTA: Observa que el método de Validación-Cruzada llama  a los resultados\n",
        "#       de \"validation\" como \"test\":\n",
        "\n",
        "modelos, nombres = mis_modelos()\n",
        "resultados = list()\n",
        "\n",
        "\n",
        "\n",
        "model_hiper_params = {\"LR\": {'C': list(range(1, 3)), 'max_iter': [100, 1000, 2000],\n",
        "             'solver': ['lbfgs', 'liblinear', 'newton-cg',\n",
        "                        'newton-cholesky', 'sag', 'saga']},\n",
        "\n",
        "    \"kNN\": {'n_neighbors': list(range(1, 12)),\n",
        "             'weights': ['uniform', 'distance'],\n",
        "             'metric': ['euclidean', 'manhattan', 'minkowski', 'chebyshev']},\n",
        "\n",
        "    \"DTree\": { 'criterion': ['gini', 'entropy', 'log_loss'],\n",
        "               'splitter': ['best', 'random'], 'max_depth': [None, 10, 20, 30],\n",
        "               'min_samples_split': [2, 5, 10], 'min_samples_leaf': [1, 2, 4],\n",
        "               'max_features': [None, 'sqrt', 'log2'] },\n",
        "\n",
        "    \"RF\": { 'n_estimators': [50, 100], 'criterion': ['gini', 'entropy'],\n",
        "            'max_depth': [None, 20], 'min_samples_split': [5, 10],\n",
        "            'min_samples_leaf': [1, 4],\n",
        "            'max_features': ['auto', 'sqrt', 'log2'] },\n",
        "\n",
        "    \"XGBoost\": {'n_estimators': [50, 100, 200], 'max_depth': [3, 5, 7],\n",
        "                'learning_rate': [0.01, 0.1, 0.3], 'subsample': [0.8, 1.0],\n",
        "                'colsample_bytree': [0.8, 1.0], 'gamma': [0, 0.1, 0.3] },\n",
        "\n",
        "\n",
        "    \"MLP\": {'hidden_layer_sizes': [(100,), (50, 100, 50)], 'solver': ['adam'],\n",
        "            'activation': ['relu', 'tanh'], 'alpha': [0.0001, 0.05],\n",
        "            'learning_rate': ['constant', 'adaptive']},\n",
        "\n",
        "\n",
        "    \"SVM\": { 'kernel': ['rbf'],\n",
        "             'gamma': ['scale'] }}\n",
        "\n",
        "modelo_best_params = {}\n",
        "\n",
        "for num,model in enumerate(modelos):\n",
        "  _modelo = GridSearchCV(model, param_grid= model_hiper_params[nombres[num]], cv=5)\n",
        "  _modelo.fit(Xtrainval, ytrainval)\n",
        "  modelo_best_params[nombres[num]] = _modelo.best_params_\n",
        "  print(\"Los mejores hiperparámetros para el modelo %s son %s con un score de %0.4f\" % (nombres[num], _modelo.best_params_, _modelo.best_score_))\n",
        "\n"
      ]
    },
    {
      "cell_type": "code",
      "execution_count": null,
      "metadata": {
        "colab": {
          "base_uri": "https://localhost:8080/"
        },
        "id": "NZg2sFxw_me0",
        "outputId": "57f06169-65b8-435b-eec2-fb0224355319"
      },
      "outputs": [
        {
          "output_type": "stream",
          "name": "stdout",
          "text": [
            ">> LR\n",
            "\t test_accuracy 0.762 (0.022)\n",
            "\t train_accuracy 0.785 (0.007)\n",
            "\t test_f1 0.555 (0.050)\n",
            "\t train_f1 0.598 (0.015)\n",
            "\t test_recall 0.499 (0.066)\n",
            "\t train_recall 0.533 (0.017)\n",
            "\t test_precision 0.634 (0.050)\n",
            "\t train_precision 0.680 (0.015)\n",
            ">> kNN\n",
            "\t test_accuracy 0.731 (0.020)\n",
            "\t train_accuracy 0.762 (0.010)\n",
            "\t test_f1 0.321 (0.104)\n",
            "\t train_f1 0.408 (0.042)\n",
            "\t test_recall 0.221 (0.090)\n",
            "\t train_recall 0.275 (0.036)\n",
            "\t test_precision 0.649 (0.114)\n",
            "\t train_precision 0.803 (0.031)\n",
            ">> DTree\n",
            "\t test_accuracy 0.700 (0.024)\n",
            "\t train_accuracy 0.791 (0.015)\n",
            "\t test_f1 0.410 (0.077)\n",
            "\t train_f1 0.596 (0.041)\n",
            "\t test_recall 0.357 (0.106)\n",
            "\t train_recall 0.517 (0.054)\n",
            "\t test_precision 0.503 (0.065)\n",
            "\t train_precision 0.707 (0.024)\n",
            ">> RF\n",
            "\t test_accuracy 0.756 (0.016)\n",
            "\t train_accuracy 0.890 (0.008)\n",
            "\t test_f1 0.450 (0.065)\n",
            "\t train_f1 0.783 (0.018)\n",
            "\t test_recall 0.339 (0.072)\n",
            "\t train_recall 0.661 (0.024)\n",
            "\t test_precision 0.699 (0.067)\n",
            "\t train_precision 0.961 (0.015)\n",
            ">> XGBoost\n",
            "\t test_accuracy 0.762 (0.026)\n",
            "\t train_accuracy 0.929 (0.005)\n",
            "\t test_f1 0.531 (0.065)\n",
            "\t train_f1 0.871 (0.011)\n",
            "\t test_recall 0.455 (0.082)\n",
            "\t train_recall 0.807 (0.020)\n",
            "\t test_precision 0.652 (0.075)\n",
            "\t train_precision 0.948 (0.012)\n",
            ">> MLP\n",
            "\t test_accuracy 0.700 (0.039)\n",
            "\t train_accuracy 0.902 (0.036)\n",
            "\t test_f1 0.502 (0.068)\n",
            "\t train_f1 0.837 (0.064)\n",
            "\t test_recall 0.514 (0.116)\n",
            "\t train_recall 0.845 (0.110)\n",
            "\t test_precision 0.509 (0.077)\n",
            "\t train_precision 0.843 (0.081)\n",
            ">> SVM\n",
            "\t test_accuracy 0.738 (0.014)\n",
            "\t train_accuracy 0.756 (0.004)\n",
            "\t test_f1 0.372 (0.053)\n",
            "\t train_f1 0.417 (0.034)\n",
            "\t test_recall 0.261 (0.054)\n",
            "\t train_recall 0.292 (0.035)\n",
            "\t test_precision 0.684 (0.109)\n",
            "\t train_precision 0.742 (0.029)\n"
          ]
        }
      ],
      "source": [
        "for i in range(len(modelos)):\n",
        "\n",
        "\n",
        "  # Definimos nuestro pipeline con las transformaciones y los modelos:\n",
        "  pipeline = Pipeline(steps=[('ct',columnasTransformer),\n",
        "            ('m',modelos[i].set_params(**modelo_best_params[nombres[i]]))])\n",
        "\n",
        "  # Aplicaremos validación-cruzada:\n",
        "  micv = RepeatedStratifiedKFold(n_splits=5,\n",
        "                                 n_repeats=3,\n",
        "                                 random_state=5     # agreguemos una semilla para estabilizar resultados.\n",
        "                                 )\n",
        "\n",
        "\n",
        "  # Definimos las métricas que desamos recuperar:\n",
        "  mismetricas = {'accuracy','precision','recall','f1'}\n",
        "\n",
        "  # Llevamos a cabo el entrenamiento:\n",
        "  scores = cross_validate(pipeline,\n",
        "                          Xtrainval,\n",
        "                          ytrainval,\n",
        "                          scoring=mismetricas,\n",
        "                          cv=micv,\n",
        "                          return_train_score=True,\n",
        "                          )\n",
        "\n",
        "  # Guardemos el resultado de cada modelo para análisis posteriores.\n",
        "  resultados.append(scores)\n",
        "\n",
        "  # Desplegamos los valores de las métricas para verificar si no hay\n",
        "  # subentrenamiento o sobreentrenamiento:\n",
        "  print('>> %s' % nombres[i])\n",
        "  for j,k in enumerate(list(scores.keys())):\n",
        "    if j>1:\n",
        "      print('\\t %s %.3f (%.3f)' % (k, np.mean(scores[k]),np.std(scores[k])))"
      ]
    },
    {
      "cell_type": "markdown",
      "metadata": {
        "id": "uJMe0_MFtoxR"
      },
      "source": [
        "De acuerdo con las metricas observadas, en particular, al comparar la metrica accuracy entre los conjuntos de validación y prueba, se puede observar que los modelos presentan sobre-entrenamiento a exepción de `LogisticRegression` y `SVM` donde la diferencia de las metricas esta alrededor del 3%. Por otra parte, todos los modelos presentan un accuracy mayor al 70% tanto en entrenamiento como en prueba, por lo que si bien hay margen de mejora, podemos considerar que no hay un sub-entrenamiento importante."
      ]
    },
    {
      "cell_type": "markdown",
      "metadata": {
        "id": "CGRvZ5QmBU5P"
      },
      "source": [
        "## **Ejercicio 9**"
      ]
    },
    {
      "cell_type": "markdown",
      "metadata": {
        "id": "5MeXfRLyIOLa"
      },
      "source": [
        "### **De acuerdo a la información de la matriz de costo dada en la documentación del problema, contesta las siguientes preguntas:**\n",
        "\n",
        "**a.   ¿Qué error se considera más costoso por parte del banco? ¿FP o FN? Justifica tu respuesta.**\n",
        "\n",
        "De acuerdo con la documentación del dataset y la matriz de costo, el banco considera que es peor clasificar a un cliente como bueno cuando en realidad es malo. Esto implica que el banco quiere diminuir a aquellos clientes que el modelo predice como buen cliente (clase negativa), cuando en realidad es un mal cliente (clase positiva).\n",
        "\n",
        "En general, en un modelo de predicción de riesgo crediticio, disminuir los falsos positivos pretende disminuir el costo de oportunidad para el banco, es decir, predecir de mejor manera los buenos clientes para poder otorgar más créditos y obetner mayores ingresos, con ello asumiendo un mayor riesgo. Por otra parte, disminuir los falsos negativos implica reducir aquellos clientes que fueron predecidos como buenos clientes (clase negativa) cuando en realidad eran malos clientes (clase positiva) y esto representa una postura conservadora del banco, pues pretende reducir riesgos relacionados a que los clientes no paguen. En este caso el banco le da mayor peso a identificar de mejor manera a la clase positiva.\n",
        "\n",
        "\n",
        "**b.   ¿Cuál o cuáles serían entonces las métricas a considerar como más importantes? Justifica tu respuesta.**\n",
        "\n",
        "La metrica más importante sería recall (sensibilidad), pues mide la proporción de casos clasificados en la clase negativa, cuando en realidad pertenecen a la clase positiva, es decir, casos predichos como buenos clientes cuando en realidad eran malos. Así mismo, se debe tomar en cuenta el accuracy del modelo para observar que no haya sobre-entrenamiento y el f1-score para tener en cuenta el balance entre falsos positivos y negativos, pues no se deben descuidar tampoco los falsos negativos ya que representan el costo de oportunidad del negocio del crédito."
      ]
    },
    {
      "cell_type": "markdown",
      "metadata": {
        "id": "4JkGo57zMXqn"
      },
      "source": [
        "## **Ejercicio 10**"
      ]
    },
    {
      "cell_type": "code",
      "execution_count": null,
      "metadata": {
        "colab": {
          "base_uri": "https://localhost:8080/",
          "height": 573
        },
        "id": "DsV2wzymwdyV",
        "outputId": "c026e9ad-89e7-4013-e972-352244c224b5"
      },
      "outputs": [
        {
          "output_type": "display_data",
          "data": {
            "text/plain": [
              "<Figure size 1000x600 with 1 Axes>"
            ],
            "image/png": "[encoded data removed]"
          },
          "metadata": {}
        }
      ],
      "source": [
        "# Obtener un diagrama de caja y bigotes (boxplot) múltiple de todos los modelos,\n",
        "# utilizando los resultados obtenidos con la métrica que consideraste más importante\n",
        "# en el ejercicio anterior:\n",
        "\n",
        "test_accuracy_mestric = {}\n",
        "for nombre, resultado in zip(nombres,resultados):\n",
        "  test_accuracy_mestric[nombre] = resultado['test_accuracy']\n",
        "\n",
        "\n",
        "plt.figure(figsize=(10,6))\n",
        "sns.boxplot( palette='Set2', data=pd.DataFrame(test_accuracy_mestric))\n",
        "plt.title('Distribution of Cross Validation Accuracy By Model')\n",
        "plt.xlabel('Model')\n",
        "plt.ylabel('Cross Validation Accuracy')\n",
        "plt.show()"
      ]
    },
    {
      "cell_type": "markdown",
      "metadata": {
        "id": "mrHxhpEkmvbf"
      },
      "source": [
        "### **Incluye tus conclusiones al respecto, en particular indica cuáles consideras son los mejores modelos obtenidos.**\n",
        "\n",
        "Si observamos la metrica accuracy (como viene en las indicaciones del pdf de la actividad) de cada uno de los modelos, podemos considerar que los mejores modelos son `RandomForest`, `XGBoost` y `LogisticRegression`, en primer lugar porque sus rangos intercuartiles superan el 0.75, pero también porque sus medianas son más altas que en `KNN` y `SVM` que también cumplen con dicho criterio. De estos 3 modelos podríamos considerar mejor a `LogisticRegression` y `RandomForest` porque presentan una distribución más compacta de su accuracy respecto a `XGBoost`. Sin embargo, es importante tomar en cuenta que algunos de los modelos están sobre-entrenados; en este caso solo `LogisticRegression` presenta una diferencia en accuracy entre entrenamiento y prueba de alrededor de 3%.\n",
        "\n",
        "\n"
      ]
    },
    {
      "cell_type": "markdown",
      "metadata": {
        "id": "TPOqRS7pNCNH"
      },
      "source": [
        "# **Parte III: Modelos con técnicas para clases no balanceadas.**"
      ]
    },
    {
      "cell_type": "markdown",
      "metadata": {
        "id": "HowUdsf7MqIJ"
      },
      "source": [
        "## **Ejercicio 11**"
      ]
    },
    {
      "cell_type": "code",
      "execution_count": null,
      "metadata": {
        "colab": {
          "base_uri": "https://localhost:8080/"
        },
        "id": "ZbfPqUkSwFxo",
        "outputId": "5fe84b22-6b0d-48e5-e363-2867e95ea18c"
      },
      "outputs": [
        {
          "output_type": "stream",
          "name": "stdout",
          "text": [
            "---------RESULTADOS USANDO SMOTE-----------\n",
            ">> LR\n",
            "\t test_accuracy 0.725 (0.022)\n",
            "\t train_accuracy 0.757 (0.009)\n",
            "\t test_f1 0.600 (0.039)\n",
            "\t train_f1 0.646 (0.011)\n",
            "\t test_recall 0.690 (0.076)\n",
            "\t train_recall 0.741 (0.013)\n",
            "\t test_precision 0.534 (0.029)\n",
            "\t train_precision 0.573 (0.013)\n",
            ">> kNN\n",
            "\t test_accuracy 0.716 (0.025)\n",
            "\t train_accuracy 0.830 (0.006)\n",
            "\t test_f1 0.390 (0.088)\n",
            "\t train_f1 0.678 (0.016)\n",
            "\t test_recall 0.311 (0.096)\n",
            "\t train_recall 0.600 (0.028)\n",
            "\t test_precision 0.547 (0.093)\n",
            "\t train_precision 0.782 (0.017)\n",
            ">> DTree\n",
            "\t test_accuracy 0.661 (0.032)\n",
            "\t train_accuracy 0.792 (0.012)\n",
            "\t test_f1 0.467 (0.048)\n",
            "\t train_f1 0.666 (0.019)\n",
            "\t test_recall 0.497 (0.071)\n",
            "\t train_recall 0.690 (0.041)\n",
            "\t test_precision 0.444 (0.048)\n",
            "\t train_precision 0.645 (0.024)\n",
            ">> RF\n",
            "\t test_accuracy 0.751 (0.020)\n",
            "\t train_accuracy 0.923 (0.007)\n",
            "\t test_f1 0.561 (0.048)\n",
            "\t train_f1 0.864 (0.012)\n",
            "\t test_recall 0.537 (0.087)\n",
            "\t train_recall 0.819 (0.019)\n",
            "\t test_precision 0.599 (0.050)\n",
            "\t train_precision 0.914 (0.011)\n",
            ">> XGBoost\n",
            "\t test_accuracy 0.757 (0.022)\n",
            "\t train_accuracy 0.923 (0.007)\n",
            "\t test_f1 0.583 (0.040)\n",
            "\t train_f1 0.870 (0.013)\n",
            "\t test_recall 0.569 (0.064)\n",
            "\t train_recall 0.857 (0.022)\n",
            "\t test_precision 0.604 (0.045)\n",
            "\t train_precision 0.885 (0.012)\n",
            ">> MLP\n",
            "\t test_accuracy 0.695 (0.032)\n",
            "\t train_accuracy 0.924 (0.030)\n",
            "\t test_f1 0.494 (0.066)\n",
            "\t train_f1 0.875 (0.051)\n",
            "\t test_recall 0.505 (0.106)\n",
            "\t train_recall 0.895 (0.099)\n",
            "\t test_precision 0.493 (0.056)\n",
            "\t train_precision 0.870 (0.081)\n",
            ">> SVM\n",
            "\t test_accuracy 0.701 (0.030)\n",
            "\t train_accuracy 0.729 (0.013)\n",
            "\t test_f1 0.592 (0.027)\n",
            "\t train_f1 0.626 (0.011)\n",
            "\t test_recall 0.724 (0.053)\n",
            "\t train_recall 0.756 (0.016)\n",
            "\t test_precision 0.504 (0.036)\n",
            "\t train_precision 0.535 (0.016)\n",
            "----------------------RESULTADOS USANDO SMOTEENN------------------------\n",
            ">> LR\n",
            "\t test_accuracy 0.656 (0.033)\n",
            "\t train_accuracy 0.677 (0.013)\n",
            "\t test_f1 0.588 (0.024)\n",
            "\t train_f1 0.613 (0.008)\n",
            "\t test_recall 0.818 (0.054)\n",
            "\t train_recall 0.852 (0.018)\n",
            "\t test_precision 0.461 (0.027)\n",
            "\t train_precision 0.479 (0.012)\n",
            ">> kNN\n",
            "\t test_accuracy 0.656 (0.028)\n",
            "\t train_accuracy 0.691 (0.015)\n",
            "\t test_f1 0.560 (0.024)\n",
            "\t train_f1 0.605 (0.010)\n",
            "\t test_recall 0.728 (0.053)\n",
            "\t train_recall 0.789 (0.026)\n",
            "\t test_precision 0.456 (0.027)\n",
            "\t train_precision 0.491 (0.015)\n",
            ">> DTree\n",
            "\t test_accuracy 0.604 (0.036)\n",
            "\t train_accuracy 0.660 (0.027)\n",
            "\t test_f1 0.513 (0.046)\n",
            "\t train_f1 0.584 (0.020)\n",
            "\t test_recall 0.698 (0.099)\n",
            "\t train_recall 0.792 (0.035)\n",
            "\t test_precision 0.407 (0.031)\n",
            "\t train_precision 0.463 (0.024)\n",
            ">> RF\n",
            "\t test_accuracy 0.660 (0.028)\n",
            "\t train_accuracy 0.700 (0.012)\n",
            "\t test_f1 0.583 (0.018)\n",
            "\t train_f1 0.632 (0.007)\n",
            "\t test_recall 0.792 (0.058)\n",
            "\t train_recall 0.858 (0.023)\n",
            "\t test_precision 0.464 (0.026)\n",
            "\t train_precision 0.500 (0.011)\n",
            ">> XGBoost\n",
            "\t test_accuracy 0.663 (0.029)\n",
            "\t train_accuracy 0.721 (0.013)\n",
            "\t test_f1 0.580 (0.024)\n",
            "\t train_f1 0.650 (0.011)\n",
            "\t test_recall 0.775 (0.059)\n",
            "\t train_recall 0.863 (0.018)\n",
            "\t test_precision 0.465 (0.027)\n",
            "\t train_precision 0.521 (0.013)\n",
            ">> MLP\n",
            "\t test_accuracy 0.663 (0.029)\n",
            "\t train_accuracy 0.738 (0.017)\n",
            "\t test_f1 0.578 (0.023)\n",
            "\t train_f1 0.668 (0.016)\n",
            "\t test_recall 0.770 (0.070)\n",
            "\t train_recall 0.878 (0.020)\n",
            "\t test_precision 0.465 (0.027)\n",
            "\t train_precision 0.539 (0.018)\n",
            ">> SVM\n",
            "\t test_accuracy 0.635 (0.037)\n",
            "\t train_accuracy 0.647 (0.009)\n",
            "\t test_f1 0.574 (0.028)\n",
            "\t train_f1 0.590 (0.009)\n",
            "\t test_recall 0.817 (0.051)\n",
            "\t train_recall 0.845 (0.019)\n",
            "\t test_precision 0.443 (0.031)\n",
            "\t train_precision 0.453 (0.008)\n"
          ]
        }
      ],
      "source": [
        "# Selecciona una técnica de sobremuestreo y/o submuestreo\n",
        "# para clases no balanceadas que consideres adecuada.\n",
        "msmote = SMOTE(random_state=23)\n",
        "resultados_sampl_1 = list()\n",
        "print('---------RESULTADOS USANDO SMOTE-----------')\n",
        "for i in range(len(modelos)):\n",
        "\n",
        "\n",
        "  # Definimos nuestro pipeline con las transformaciones y los modelos:\n",
        "  pipeline_sampl_1 = imb_pipeline.Pipeline(steps=[('ct',columnasTransformer),\n",
        "                                          ('smote',msmote),\n",
        "            ('m',modelos[i].set_params(**modelo_best_params[nombres[i]]))])\n",
        "\n",
        "  # Aplicaremos validación-cruzada:\n",
        "  micv = RepeatedStratifiedKFold(n_splits=5,\n",
        "                                 n_repeats=3,\n",
        "                                 random_state=5     # agreguemos una semilla para estabilizar resultados.\n",
        "                                 )\n",
        "\n",
        "\n",
        "  # Definimos las métricas que desamos recuperar:\n",
        "  mismetricas = {'accuracy','precision','recall','f1'}\n",
        "\n",
        "  # Llevamos a cabo el entrenamiento:\n",
        "  scores_sampl_1 = cross_validate(pipeline_sampl_1,\n",
        "                          Xtrainval,\n",
        "                          ytrainval,\n",
        "                          scoring=mismetricas,\n",
        "                          cv=micv,\n",
        "                          return_train_score=True,\n",
        "                          )\n",
        "\n",
        "  # Guardemos el resultado de cada modelo para análisis posteriores.\n",
        "  resultados_sampl_1.append(scores_sampl_1)\n",
        "\n",
        "  # Desplegamos los valores de las métricas para verificar si no hay\n",
        "  # subentrenamiento o sobreentrenamiento:\n",
        "\n",
        "  print('>> %s' % nombres[i])\n",
        "  for j,k in enumerate(list(scores_sampl_1.keys())):\n",
        "    if j>1:\n",
        "      print('\\t %s %.3f (%.3f)' % (k, np.mean(scores_sampl_1[k]),np.std(scores_sampl_1[k])))\n",
        "\n",
        "#------------------------------------------------------------------------------#\n",
        "\n",
        "smoteenn = SMOTEENN(sampling_strategy=1.0, random_state=23)\n",
        "resultados_sampl_2 = list()\n",
        "\n",
        "print('----------------------RESULTADOS USANDO SMOTEENN------------------------')\n",
        "\n",
        "for i in range(len(modelos)):\n",
        "\n",
        "\n",
        "  # Definimos nuestro pipeline con las transformaciones y los modelos:\n",
        "  pipeline_sampl_2 = imb_pipeline.Pipeline(steps=[('ct',columnasTransformer),\n",
        "                                          ('smoteenn',smoteenn),\n",
        "            ('m',modelos[i].set_params(**modelo_best_params[nombres[i]]))])\n",
        "\n",
        "  # Aplicaremos validación-cruzada:\n",
        "  micv = RepeatedStratifiedKFold(n_splits=5,\n",
        "                                 n_repeats=3,\n",
        "                                 random_state=5     # agreguemos una semilla para estabilizar resultados.\n",
        "                                 )\n",
        "\n",
        "\n",
        "  # Definimos las métricas que desamos recuperar:\n",
        "  mismetricas = {'accuracy','precision','recall','f1'}\n",
        "\n",
        "  # Llevamos a cabo el entrenamiento:\n",
        "  scores_sampl_2 = cross_validate(pipeline_sampl_2,\n",
        "                          Xtrainval,\n",
        "                          ytrainval,\n",
        "                          scoring=mismetricas,\n",
        "                          cv=micv,\n",
        "                          return_train_score=True,\n",
        "                          )\n",
        "\n",
        "  # Guardemos el resultado de cada modelo para análisis posteriores.\n",
        "  resultados_sampl_2.append(scores_sampl_2)\n",
        "\n",
        "  # Desplegamos los valores de las métricas para verificar si no hay\n",
        "  # subentrenamiento o sobreentrenamiento:\n",
        "\n",
        "  print('>> %s' % nombres[i])\n",
        "  for j,k in enumerate(list(scores_sampl_2.keys())):\n",
        "    if j>1:\n",
        "      print('\\t %s %.3f (%.3f)' % (k, np.mean(scores_sampl_2[k]),np.std(scores_sampl_2[k])))"
      ]
    },
    {
      "cell_type": "markdown",
      "metadata": {
        "id": "vNisnGnk6Q7g"
      },
      "source": [
        "## **Ejercicio 12**"
      ]
    },
    {
      "cell_type": "code",
      "execution_count": null,
      "metadata": {
        "colab": {
          "base_uri": "https://localhost:8080/",
          "height": 975
        },
        "id": "W9ZXNgJcxKdl",
        "outputId": "1cb7686c-03cb-44ca-9a2f-8340950adaa6"
      },
      "outputs": [
        {
          "output_type": "display_data",
          "data": {
            "text/plain": [
              "<Figure size 1000x500 with 1 Axes>"
            ],
            "image/png": "[encoded data removed]"
          },
          "metadata": {}
        },
        {
          "output_type": "display_data",
          "data": {
            "text/plain": [
              "<Figure size 1000x500 with 1 Axes>"
            ],
            "image/png": "[encoded data removed]"
          },
          "metadata": {}
        }
      ],
      "source": [
        "# Obtener un diagrama de caja y bigotes (boxplot) múltiple de todos los modelos,\n",
        "# que incluye submuestreo y/o sobremuestreo:\n",
        "\n",
        "test_recall_mestric_sampl_1 = {}\n",
        "for nombre, resultado in zip(nombres,resultados_sampl_1):\n",
        "    test_recall_mestric_sampl_1[nombre] = resultado['test_recall']\n",
        "\n",
        "\n",
        "plt.figure(figsize=(10,5))\n",
        "sns.boxplot( palette='Set1', data=pd.DataFrame(test_recall_mestric_sampl_1))\n",
        "plt.title('Distribution of Cross Validation Recall By Model (SMOTE)')\n",
        "plt.xlabel('Model')\n",
        "plt.ylabel('Cross Validation Recall')\n",
        "plt.show()\n",
        "#------------------------------------------------------------------------------#\n",
        "test_recall_mestric_sampl_2 = {}\n",
        "for nombre, resultado in zip(nombres,resultados_sampl_2):\n",
        "    test_recall_mestric_sampl_2[nombre] = resultado['test_recall']\n",
        "\n",
        "\n",
        "plt.figure(figsize=(10,5))\n",
        "sns.boxplot( palette='Set2', data=pd.DataFrame(test_recall_mestric_sampl_2))\n",
        "plt.title('Distribution of Cross Validation Recall By Model (SMOTEENN)')\n",
        "plt.xlabel('Model')\n",
        "plt.ylabel('Cross Validation Recall')\n",
        "plt.show()"
      ]
    },
    {
      "cell_type": "markdown",
      "metadata": {
        "id": "hDV5EpEIRsy4"
      },
      "source": [
        "# **Parte IV: Mejor modelo**"
      ]
    },
    {
      "cell_type": "markdown",
      "metadata": {
        "id": "PORgZ7b_WTq-"
      },
      "source": [
        "## **Ejercicio 13**"
      ]
    },
    {
      "cell_type": "markdown",
      "metadata": {
        "id": "FBSVeSgfWSgn"
      },
      "source": [
        "### **Selecciona y justifica cuál consideras es el mejor modelo que has obtenido hasta ahora.**\n",
        "\n",
        "Hasta ahora el mejor modelo ha sido `LogisticRegression` con la técnica de submuestro y sobremuestreo `SMOTEENN` tomando en cuenta la metrica recall, la cual fue justificada en el ejercicio 9, ya que la distribución de la metrica recall presenta de las medianas más altas (alrededor del 77%) en el conjunto de prueba respecto a todos los modelos. Así mismo, el modelo no presenta sobre-entrenamiento ya que la diferencia en accuracy entre el conjunto de entrenamiento y prueba esta alrededor del 3%. Si bien, el accuracy en general se vio impactado al bajar de un promedio de 75% a 66%, la metrica recall aumento más de 25%, respecto a la metrica del modelo inicial.\n",
        "\n"
      ]
    },
    {
      "cell_type": "markdown",
      "metadata": {
        "id": "slDkvQ37Wtst"
      },
      "source": [
        "## **Ejercicio 14**"
      ]
    },
    {
      "cell_type": "code",
      "execution_count": null,
      "metadata": {
        "colab": {
          "base_uri": "https://localhost:8080/"
        },
        "id": "ZRZUVESUXQhY",
        "outputId": "3c07aeb7-6483-4357-c6a6-19b547df21c6"
      },
      "outputs": [
        {
          "output_type": "stream",
          "name": "stdout",
          "text": [
            "Volvemos a calculas los mejores hiperparámetros para este modelo, ahora ya con la técnica SMOTEENN...\n",
            "Los mejores hiperparámetros son {'C': 5, 'max_iter': 100, 'solver': 'liblinear'} con un score de 0.8906\n",
            "---------------------------------------------------------------\n",
            "FINAL MODEL ACCURACY METRICS\n",
            "---------------------------------------------------------------\n",
            "accuracy-train-balanced 0.6941176470588235\n",
            "accuracy-test-balanced 0.62\n"
          ]
        }
      ],
      "source": [
        "# Incluye aquí tu mejor modelo. Verifica que tu modelo no esté sobreentrenado\n",
        "# e indica cuáles son los mejores valores obtenidos de los hiperparámetros.\n",
        "# Con el mejor modelo y los mejores hiperparámetros encontrados en el ejercicio anterior,\n",
        "# utiliza ahora (por primera vez en la actividad) el conjunto de prueba (test set) para:\n",
        "\n",
        "# a.\tMejor modelo con los mejores hiperparámetros y el conjunto de prueba.\n",
        "\n",
        "print(\"Volvemos a calculas los mejores hiperparámetros para este modelo, ahora ya con la técnica SMOTEENN...\")\n",
        "\n",
        "LGR = modelos[0]\n",
        "smoteenn = SMOTEENN(sampling_strategy=1.0, random_state=23)\n",
        "pipeline_lgr = imb_pipeline.Pipeline(steps=[\n",
        "    ('ct', columnasTransformer), ('under-oversampling', smoteenn)\n",
        "])\n",
        "\n",
        "Xtrainval_lgr,ytrainval_lgr = pipeline_lgr.fit_resample(Xtrainval, np.ravel(ytrainval))\n",
        "\n",
        "dicc_grid = {'C': list(range(1, 12)),\n",
        "             'max_iter': [100, 1000, 2000],\n",
        "             'solver': ['lbfgs', 'liblinear', 'newton-cg',\n",
        "                        'newton-cholesky', 'sag', 'saga']}\n",
        "\n",
        "modelo_LGR = GridSearchCV(LGR, param_grid=dicc_grid)\n",
        "\n",
        "modelo_LGR.fit(Xtrainval_lgr, ytrainval_lgr)\n",
        "\n",
        "print(\"Los mejores hiperparámetros son %s con un score de %0.4f\" % (modelo_LGR.best_params_, modelo_LGR.best_score_))\n",
        "\n",
        "\n",
        "pipeline_final = imb_pipeline.Pipeline(steps=[('ct',columnasTransformer),\n",
        "                                      ('smoteenn',smoteenn),('m',modelos[0].set_params(**modelo_LGR.best_params_))])\n",
        "\n",
        "\n",
        "pipeline_final.fit(Xtrainval, ytrainval)\n",
        "\n",
        "print(\"---------------------------------------------------------------\")\n",
        "print(\"FINAL MODEL ACCURACY METRICS\")\n",
        "print(\"---------------------------------------------------------------\")\n",
        "print('accuracy-train-balanced', pipeline_final.score(Xtrainval, ytrainval))\n",
        "print('accuracy-test-balanced', pipeline_final.score(Xtest, ytest))\n",
        "\n",
        "y_pred_train = pipeline_final.predict(Xtrainval)\n",
        "\n",
        "y_pred_test = pipeline_final.predict(Xtest)"
      ]
    },
    {
      "cell_type": "code",
      "execution_count": null,
      "metadata": {
        "colab": {
          "base_uri": "https://localhost:8080/",
          "height": 551
        },
        "id": "lBd-VuoAXZZX",
        "outputId": "1cfc4f40-d27a-4c89-ae6e-91d23674839c"
      },
      "outputs": [
        {
          "output_type": "display_data",
          "data": {
            "text/plain": [
              "<Figure size 600x400 with 2 Axes>"
            ],
            "image/png": "[encoded data removed]"
          },
          "metadata": {}
        },
        {
          "output_type": "stream",
          "name": "stdout",
          "text": [
            "              precision    recall  f1-score   support\n",
            "\n",
            "           0       0.88      0.53      0.66       105\n",
            "           1       0.43      0.82      0.56        45\n",
            "\n",
            "    accuracy                           0.62       150\n",
            "   macro avg       0.65      0.68      0.61       150\n",
            "weighted avg       0.74      0.62      0.63       150\n",
            "\n"
          ]
        }
      ],
      "source": [
        "# b.\tObtener la matriz de confusión y el classification_report().\n",
        "plt.figure(figsize=(6,4))\n",
        "cm = metrics.confusion_matrix(ytest, y_pred_test)\n",
        "plt.title('Confusion Matrix')\n",
        "sns.heatmap(cm, annot=True, fmt= \".2f\", xticklabels=[0, 1], yticklabels=[0, 1])\n",
        "plt.show()\n",
        "print(metrics.classification_report(ytest, y_pred_test))"
      ]
    },
    {
      "cell_type": "code",
      "execution_count": null,
      "metadata": {
        "colab": {
          "base_uri": "https://localhost:8080/",
          "height": 1000
        },
        "id": "Ngslji43XsO_",
        "outputId": "ec584098-8c66-4d82-fee8-060c96aa18b4"
      },
      "outputs": [
        {
          "output_type": "stream",
          "name": "stdout",
          "text": [
            "Feature: 0, Score: 0.10824\n",
            "Feature: 1, Score: 0.00784\n",
            "Feature: 2, Score: -0.00627\n",
            "Feature: 3, Score: 0.01725\n",
            "Feature: 4, Score: 0.00863\n",
            "Feature: 5, Score: 0.01020\n",
            "Feature: 6, Score: 0.02118\n",
            "Feature: 7, Score: -0.00157\n",
            "Feature: 8, Score: 0.00235\n",
            "Feature: 9, Score: 0.00471\n",
            "Feature: 10, Score: 0.00863\n",
            "Feature: 11, Score: 0.00235\n",
            "Feature: 12, Score: 0.00784\n",
            "Feature: 13, Score: 0.00706\n",
            "Feature: 14, Score: 0.00549\n",
            "Feature: 15, Score: -0.00471\n",
            "Feature: 16, Score: 0.00157\n",
            "Feature: 17, Score: 0.00471\n",
            "Feature: 18, Score: 0.00471\n",
            "Feature: 19, Score: 0.00235\n"
          ]
        },
        {
          "output_type": "display_data",
          "data": {
            "text/plain": [
              "<Figure size 1000x800 with 1 Axes>"
            ],
            "image/png": "[encoded data removed]"
          },
          "metadata": {}
        }
      ],
      "source": [
        "# c.\tRealiza un análisis de importancia de variables (feature importance) de este\n",
        "#     mejor modelo e incluye tus conclusiones al respecto.\n",
        "results = permutation_importance(pipeline_final, Xtrainval, ytrainval, scoring='recall')\n",
        "importance = results.importances_mean\n",
        "\n",
        "for i,v in enumerate(importance):\n",
        " print('Feature: %0d, Score: %.5f' % (i,v))\n",
        "plt.figure(figsize=(10,8))\n",
        "plt.title(\"Permutation Importance Factors\")\n",
        "plt.barh([pd.DataFrame(Xtrainval).columns[x] for x in range(len(importance))], importance, color='c')\n",
        "plt.show()"
      ]
    },
    {
      "cell_type": "markdown",
      "metadata": {
        "id": "hzJcWAWz8aG_"
      },
      "source": [
        "Los factores más importantes que ponderan para la decisión de buenos o malos clientes en cuanto al riesgo crediticio resultan ser en primer lugar **status** el cual indica la existencia de una cuenta corriente y sus diferente niveles de monto y en un segundo lugar o lugares, se encuentras **savings** (niveles de ahorro), **purpose** (propósito del crédito), **duration** (duración  del crédito) y **credit_history** (tipo de historial crediticio). Todas estás variables tienen lógica y están fuertemente relacionadas con la decisión de otorgar o no un crédito a los solicitantes, por lo que resultan ser factores a tomar en cuenta a la hora de aprobar a un cliente para saber si es buen o malo respecto al riesgo crediticio."
      ]
    },
    {
      "cell_type": "markdown",
      "metadata": {
        "id": "AeTAcfFKX3Sm"
      },
      "source": [
        "## **Ejercicio 15**"
      ]
    },
    {
      "cell_type": "markdown",
      "metadata": {
        "id": "n04HnK-ZX4vl"
      },
      "source": [
        "### **Escribe tus conclusiones finales de la actividad.**"
      ]
    },
    {
      "cell_type": "markdown",
      "metadata": {
        "id": "R7s7iDgKYEn9"
      },
      "source": [
        "Los modelos de AI/ML para determinar el riesgo crediticio se han vuelto cada vez más importantes en la industria por su impacto en la optimización de procesos, la administración del riesgo y la oportunidad de más ingresos. En esta actividad se exploraron diversos modelos de clasificación de buenos y malos clientes respecto al riesgo crediticio y el mejor modelo resultó ser el de regresión logistica en combinación con la tecnica de sobre-muetreo SMOTE y sub-muestro ENN y la optimización de hiperparámetros.\n",
        "\n",
        "Si bien, el modelo resultó no presentar sobre-entrenamiento ya que la diferencia entre el accuracy de los conjuntos de entrenamiento y prueba resultó estar alrededor de 3%, si se vio impactada la magnitud de la metrica pues su performance siempre se encuentre alrededor del 70% para ambos conjuntos. Esto se debio a que se premió la metrica recall, pues el objetivo general, como se estableció en el ejercicio 9, es reducir los falsos negativos debido a que tienen un impacto en el riesgo crediticio para un banco.\n",
        "\n",
        "Sin embargo, es necesario tomar en cuenta que no siempre la metrica recall se precisa en este tipo de modelos, pues a veces se puede buscar ponderar más la prceisión si el banco adopta una estrategia crediticia más arriesgada para aumentar sus ingresos.\n",
        "\n",
        "Finalmente, en cuanto al modelo, se afectaron otras métricas al aumentar el recall para la clase positiva y se logró aumentar al 25% respecto al modelo inicial. Aun así es importante mencionar que un accuracy del 70% está apenas en el limite inferior del Baseline Model presentado en la documentación oficial, por lo que aun hay margen de probar e iterar con distintas transformaciones de datos o modelos de clasificación para intentar adquirir mejores metricas. En terminos del ejercicio, se puede considerar que se logro un modelo al menos funcional ya que esta dentro del rango de performance del Baseline Model aumentando el recall que era la metrica objetivo.\n",
        "\n"
      ]
    },
    {
      "cell_type": "markdown",
      "metadata": {
        "id": "v-tW_CdUYMdl"
      },
      "source": [
        ">> ### **Fin de la Actividad de las Semanas 5 y 6.**"
      ]
    }
  ],
  "metadata": {
    "colab": {
      "provenance": []
    },
    "kernelspec": {
      "display_name": "Python 3 (ipykernel)",
      "language": "python",
      "name": "python3"
    },
    "language_info": {
      "codemirror_mode": {
        "name": "ipython",
        "version": 3
      },
      "file_extension": ".py",
      "mimetype": "text/x-python",
      "name": "python",
      "nbconvert_exporter": "python",
      "pygments_lexer": "ipython3",
      "version": "3.9.13"
    }
  },
  "nbformat": 4,
  "nbformat_minor": 0
}